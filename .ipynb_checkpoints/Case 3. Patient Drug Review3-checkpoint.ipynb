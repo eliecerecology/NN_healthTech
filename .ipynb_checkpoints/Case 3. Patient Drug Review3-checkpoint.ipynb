{
 "cells": [
  {
   "cell_type": "markdown",
   "metadata": {},
   "source": [
    "## Case 3: Patient Drug Review"
   ]
  },
  {
   "cell_type": "markdown",
   "metadata": {},
   "source": [
    "**TEAM 10: Eliecer Diaz, Muskan Kaushik, and Zakaria Hasan**"
   ]
  },
  {
   "cell_type": "markdown",
   "metadata": {},
   "source": [
    "**Introduction**\n",
    "\n",
    "Text analysis is one of the everyday machine learning technics that can be solved by deep learning. Deep learning architecture uses a neural network.\n",
    "Recurrent neural networks (RNN) are at the forefront of the neural network models used for learning from sequential data. \n",
    "This document aims to investigate sentiment analysis on patient drug reviews. The computation was implemented by using Long Short Term Memory(LSTM) to examine the dataset and construct effective model to predict the rating based on given reviews. \n",
    "\n",
    "\n",
    "**Objectives:**\n",
    "* Predict the multiclass type of drug rating based on the drug reviews \n",
    "* give metrics about the accuracy, Cohen's Kappa, Classification report\n",
    "* 3 categories from the numeric drug review ratings and try to classify converted "
   ]
  },
  {
   "cell_type": "code",
   "execution_count": 5,
   "metadata": {},
   "outputs": [
    {
     "name": "stdout",
     "output_type": "stream",
     "text": [
      "Collecting scikit-learn\n",
      "  Downloading scikit_learn-0.22.2.post1-cp36-cp36m-manylinux1_x86_64.whl (7.1 MB)\n",
      "\u001b[K     |████████████████████████████████| 7.1 MB 1.8 MB/s eta 0:00:01     |███████████████████████████     | 5.9 MB 1.8 MB/s eta 0:00:01     |███████████████████████████████▎| 6.9 MB 1.8 MB/s eta 0:00:01\n",
      "\u001b[?25hRequirement already satisfied, skipping upgrade: scipy>=0.17.0 in /usr/local/lib/python3.6/dist-packages (from scikit-learn) (1.4.1)\n",
      "Collecting joblib>=0.11\n",
      "  Downloading joblib-0.14.1-py2.py3-none-any.whl (294 kB)\n",
      "\u001b[K     |████████████████████████████████| 294 kB 4.6 MB/s eta 0:00:01\n",
      "\u001b[?25hRequirement already satisfied, skipping upgrade: numpy>=1.11.0 in /usr/local/lib/python3.6/dist-packages (from scikit-learn) (1.18.2)\n",
      "Installing collected packages: joblib, scikit-learn\n",
      "Successfully installed joblib-0.14.1 scikit-learn-0.22.2.post1\n",
      "Note: you may need to restart the kernel to use updated packages.\n"
     ]
    }
   ],
   "source": [
    "pip install -U scikit-learn\n"
   ]
  },
  {
   "cell_type": "markdown",
   "metadata": {},
   "source": [
    "# Importing libraries"
   ]
  },
  {
   "cell_type": "code",
   "execution_count": 6,
   "metadata": {},
   "outputs": [
    {
     "name": "stdout",
     "output_type": "stream",
     "text": [
      "Tensorflow version: 2.2.0-dev20200319\n"
     ]
    }
   ],
   "source": [
    "import random # Random generators\n",
    "import numpy as np\n",
    "import pandas as pd # Pandas dataframe\n",
    "import matplotlib.pyplot as plt\n",
    "import re # Text cleaning\n",
    "import tensorflow as tf # Tensorflow\n",
    "from tensorflow.keras import preprocessing # Text preprocessing\n",
    "from tensorflow.keras.preprocessing.text import Tokenizer # Text preprocessing\n",
    "from tensorflow.keras.preprocessing.sequence import pad_sequences # Text preprocessing\n",
    "from tensorflow.keras.models import Sequential # modeling neural networks\n",
    "from tensorflow.keras.layers import Input, Dense, Conv1D, MaxPooling1D, GlobalMaxPooling1D, Embedding, SpatialDropout1D, LSTM\n",
    "from tensorflow.keras.initializers import Constant\n",
    "from tensorflow.keras import optimizers, metrics # Neural Network\n",
    "from sklearn.metrics import classification_report, confusion_matrix, cohen_kappa_score\n",
    "random.seed(10) # Set seed for the random generators\n",
    "print(f\"Tensorflow version: {tf.__version__}\")"
   ]
  },
  {
   "cell_type": "markdown",
   "metadata": {},
   "source": [
    "# Create dataframes train and test"
   ]
  },
  {
   "cell_type": "code",
   "execution_count": 8,
   "metadata": {},
   "outputs": [],
   "source": [
    "train = pd.read_csv('drugsComTrain_raw.csv')\n",
    "test = pd.read_csv('drugsComTest_raw.csv')"
   ]
  },
  {
   "cell_type": "code",
   "execution_count": 9,
   "metadata": {},
   "outputs": [
    {
     "data": {
      "text/html": [
       "<div>\n",
       "<style scoped>\n",
       "    .dataframe tbody tr th:only-of-type {\n",
       "        vertical-align: middle;\n",
       "    }\n",
       "\n",
       "    .dataframe tbody tr th {\n",
       "        vertical-align: top;\n",
       "    }\n",
       "\n",
       "    .dataframe thead th {\n",
       "        text-align: right;\n",
       "    }\n",
       "</style>\n",
       "<table border=\"1\" class=\"dataframe\">\n",
       "  <thead>\n",
       "    <tr style=\"text-align: right;\">\n",
       "      <th></th>\n",
       "      <th>uniqueID</th>\n",
       "      <th>drugName</th>\n",
       "      <th>condition</th>\n",
       "      <th>review</th>\n",
       "      <th>rating</th>\n",
       "      <th>date</th>\n",
       "      <th>usefulCount</th>\n",
       "    </tr>\n",
       "  </thead>\n",
       "  <tbody>\n",
       "    <tr>\n",
       "      <th>0</th>\n",
       "      <td>206461</td>\n",
       "      <td>Valsartan</td>\n",
       "      <td>Left Ventricular Dysfunction</td>\n",
       "      <td>\"It has no side effect, I take it in combinati...</td>\n",
       "      <td>9</td>\n",
       "      <td>20-May-12</td>\n",
       "      <td>27</td>\n",
       "    </tr>\n",
       "    <tr>\n",
       "      <th>1</th>\n",
       "      <td>95260</td>\n",
       "      <td>Guanfacine</td>\n",
       "      <td>ADHD</td>\n",
       "      <td>\"My son is halfway through his fourth week of ...</td>\n",
       "      <td>8</td>\n",
       "      <td>27-Apr-10</td>\n",
       "      <td>192</td>\n",
       "    </tr>\n",
       "    <tr>\n",
       "      <th>2</th>\n",
       "      <td>92703</td>\n",
       "      <td>Lybrel</td>\n",
       "      <td>Birth Control</td>\n",
       "      <td>\"I used to take another oral contraceptive, wh...</td>\n",
       "      <td>5</td>\n",
       "      <td>14-Dec-09</td>\n",
       "      <td>17</td>\n",
       "    </tr>\n",
       "    <tr>\n",
       "      <th>3</th>\n",
       "      <td>138000</td>\n",
       "      <td>Ortho Evra</td>\n",
       "      <td>Birth Control</td>\n",
       "      <td>\"This is my first time using any form of birth...</td>\n",
       "      <td>8</td>\n",
       "      <td>3-Nov-15</td>\n",
       "      <td>10</td>\n",
       "    </tr>\n",
       "    <tr>\n",
       "      <th>4</th>\n",
       "      <td>35696</td>\n",
       "      <td>Buprenorphine / naloxone</td>\n",
       "      <td>Opiate Dependence</td>\n",
       "      <td>\"Suboxone has completely turned my life around...</td>\n",
       "      <td>9</td>\n",
       "      <td>27-Nov-16</td>\n",
       "      <td>37</td>\n",
       "    </tr>\n",
       "  </tbody>\n",
       "</table>\n",
       "</div>"
      ],
      "text/plain": [
       "   uniqueID                  drugName                     condition  \\\n",
       "0    206461                 Valsartan  Left Ventricular Dysfunction   \n",
       "1     95260                Guanfacine                          ADHD   \n",
       "2     92703                    Lybrel                 Birth Control   \n",
       "3    138000                Ortho Evra                 Birth Control   \n",
       "4     35696  Buprenorphine / naloxone             Opiate Dependence   \n",
       "\n",
       "                                              review  rating       date  \\\n",
       "0  \"It has no side effect, I take it in combinati...       9  20-May-12   \n",
       "1  \"My son is halfway through his fourth week of ...       8  27-Apr-10   \n",
       "2  \"I used to take another oral contraceptive, wh...       5  14-Dec-09   \n",
       "3  \"This is my first time using any form of birth...       8   3-Nov-15   \n",
       "4  \"Suboxone has completely turned my life around...       9  27-Nov-16   \n",
       "\n",
       "   usefulCount  \n",
       "0           27  \n",
       "1          192  \n",
       "2           17  \n",
       "3           10  \n",
       "4           37  "
      ]
     },
     "execution_count": 9,
     "metadata": {},
     "output_type": "execute_result"
    }
   ],
   "source": [
    "train.head()"
   ]
  },
  {
   "cell_type": "markdown",
   "metadata": {},
   "source": [
    "Check the column names and dataset sizes"
   ]
  },
  {
   "cell_type": "code",
   "execution_count": 10,
   "metadata": {},
   "outputs": [
    {
     "data": {
      "text/plain": [
       "['uniqueID',\n",
       " 'drugName',\n",
       " 'condition',\n",
       " 'review',\n",
       " 'rating',\n",
       " 'date',\n",
       " 'usefulCount']"
      ]
     },
     "execution_count": 10,
     "metadata": {},
     "output_type": "execute_result"
    }
   ],
   "source": [
    "list(train)"
   ]
  },
  {
   "cell_type": "code",
   "execution_count": 11,
   "metadata": {},
   "outputs": [
    {
     "data": {
      "text/plain": [
       "2.999981400885318"
      ]
     },
     "execution_count": 11,
     "metadata": {},
     "output_type": "execute_result"
    }
   ],
   "source": [
    "train.values.shape[0], test.values.shape[0],\n",
    "train.values.shape[0]/test.values.shape[0]"
   ]
  },
  {
   "cell_type": "markdown",
   "metadata": {},
   "source": [
    "The train set is almost exactly 3 times as big as test set. This is a typycal 75:25 train:test split"
   ]
  },
  {
   "cell_type": "code",
   "execution_count": 12,
   "metadata": {},
   "outputs": [
    {
     "name": "stdout",
     "output_type": "stream",
     "text": [
      "Train shape : (161297, 7)\n",
      "Test shape : (53766, 7)\n"
     ]
    }
   ],
   "source": [
    "print(\"Train shape :\" ,train.shape)\n",
    "print(\"Test shape :\",test.shape)"
   ]
  },
  {
   "cell_type": "markdown",
   "metadata": {},
   "source": [
    "Rating Distribution "
   ]
  },
  {
   "cell_type": "code",
   "execution_count": 13,
   "metadata": {
    "scrolled": true
   },
   "outputs": [
    {
     "data": {
      "image/png": "[encoded data removed]",
      "text/plain": [
       "<Figure size 432x288 with 1 Axes>"
      ]
     },
     "metadata": {
      "needs_background": "light"
     },
     "output_type": "display_data"
    }
   ],
   "source": [
    "train.rating.hist(color = 'skyblue')\n",
    "plt.title('Distribution of Ratings')\n",
    "plt.xlabel('Rating')\n",
    "plt.xticks([i for i in range(1,11)]);"
   ]
  },
  {
   "cell_type": "code",
   "execution_count": 14,
   "metadata": {},
   "outputs": [
    {
     "data": {
      "image/png": "[encoded data removed]",
      "text/plain": [
       "<Figure size 432x288 with 1 Axes>"
      ]
     },
     "metadata": {
      "needs_background": "light"
     },
     "output_type": "display_data"
    }
   ],
   "source": [
    "train.rating.hist(color = 'red')\n",
    "plt.title('Distribution of Test Ratings')\n",
    "plt.xlabel('Rating')\n",
    "plt.xticks([i for i in range(1,11)]);"
   ]
  },
  {
   "cell_type": "markdown",
   "metadata": {},
   "source": [
    "This distribution illustrate that people generally write review for drugs they really like or those that they rally dislike. There are fewer middle rating as compared to extreme ratings."
   ]
  },
  {
   "cell_type": "markdown",
   "metadata": {},
   "source": [
    "# Hadling text with Tensorflow"
   ]
  },
  {
   "cell_type": "code",
   "execution_count": 15,
   "metadata": {},
   "outputs": [],
   "source": [
    "from tensorflow.keras.preprocessing.text import Tokenizer\n",
    "# For Train Data\n",
    "samples = train['review']\n",
    "tokenizer =Tokenizer(num_words = 5000)\n",
    "tokenizer.fit_on_texts(samples)\n",
    "\n",
    "# For Test Data\n",
    "test_samples = test['review']\n",
    "test_tokenizer =Tokenizer(num_words = 5000)\n",
    "test_tokenizer.fit_on_texts(test_samples)"
   ]
  },
  {
   "cell_type": "markdown",
   "metadata": {},
   "source": [
    "# Convert text to sequences"
   ]
  },
  {
   "cell_type": "code",
   "execution_count": 16,
   "metadata": {},
   "outputs": [
    {
     "name": "stdout",
     "output_type": "stream",
     "text": [
      "Found 51429 unique tokens.\n",
      "Found 34495 unique tokens.\n"
     ]
    }
   ],
   "source": [
    "# Convert text to sequences for Train Data\n",
    "sequences = tokenizer.texts_to_sequences(samples)\n",
    "word_index = tokenizer.word_index\n",
    "print('Found %s unique tokens.' % len(word_index))\n",
    "\n",
    "\n",
    "# Convert text to sequences for Test Data\n",
    "test_sequences = test_tokenizer.texts_to_sequences(test_samples)\n",
    "test_word_index = test_tokenizer.word_index\n",
    "print('Found %s unique tokens.' % len(test_word_index))"
   ]
  },
  {
   "cell_type": "markdown",
   "metadata": {},
   "source": [
    "# Make one hot encoding "
   ]
  },
  {
   "cell_type": "code",
   "execution_count": 18,
   "metadata": {},
   "outputs": [
    {
     "name": "stdout",
     "output_type": "stream",
     "text": [
      "(161297, 200)\n",
      "(53766, 200)\n"
     ]
    }
   ],
   "source": [
    "from tensorflow.keras.preprocessing.sequence import pad_sequences \n",
    "\n",
    "data = pad_sequences(sequences, maxlen=200)\n",
    "print(data.shape)\n",
    "\n",
    "test_data = pad_sequences(test_sequences, maxlen=200)\n",
    "print(test_data.shape)"
   ]
  },
  {
   "cell_type": "markdown",
   "metadata": {},
   "source": [
    "# Categorize labels"
   ]
  },
  {
   "cell_type": "markdown",
   "metadata": {},
   "source": [
    "2 Mean the patient review is POSITIVE <br>\n",
    "1 Mean the patient review is NEUTRAL <br>\n",
    "0 Mean the patient review is NEGATIVE"
   ]
  },
  {
   "cell_type": "code",
   "execution_count": 19,
   "metadata": {},
   "outputs": [],
   "source": [
    "# Categorize labels for Train Data\n",
    "labels = train ['rating'].values\n",
    "labels = 1.0 * (labels >= 6 ) + 1.0*(labels >= 4)\n",
    "\n",
    "\n",
    "# Categorize labels for Test Data\n",
    "test_labels = test ['rating'].values\n",
    "test_labels = 1.0 * (test_labels >= 6 ) + 1.0*(test_labels >= 4)\n",
    "\n",
    "\n"
   ]
  },
  {
   "cell_type": "markdown",
   "metadata": {},
   "source": [
    "# One hot code the output values"
   ]
  },
  {
   "cell_type": "code",
   "execution_count": 20,
   "metadata": {},
   "outputs": [
    {
     "name": "stdout",
     "output_type": "stream",
     "text": [
      "Shape of data tensor: (161297, 200)\n",
      "Shape of label tensor: (161297, 3)\n",
      "Shape of data tensor: (53766, 200)\n",
      "Shape of label tensor: (53766, 3)\n"
     ]
    }
   ],
   "source": [
    "from tensorflow.keras.utils import to_categorical\n",
    "\n",
    "# For train and validation \n",
    "labels = to_categorical(np.asarray(labels))#\n",
    "print('Shape of data tensor:', data.shape)\n",
    "print('Shape of label tensor:', labels.shape)\n",
    "\n",
    "# For Test data\n",
    "test_labels = to_categorical(np.asarray(test_labels))\n",
    "print('Shape of data tensor:', test_data.shape)\n",
    "print('Shape of label tensor:', test_labels.shape)"
   ]
  },
  {
   "cell_type": "markdown",
   "metadata": {},
   "source": [
    "# Split into traning and validition "
   ]
  },
  {
   "cell_type": "code",
   "execution_count": 21,
   "metadata": {},
   "outputs": [],
   "source": [
    "VALIDATION_SPLIT = 0.25\n",
    "# split the data into a training set and a validation set\n",
    "indices = np.arange(data.shape[0])\n",
    "np.random.shuffle(indices)\n",
    "data = data[indices]\n",
    "labels = labels[indices]\n",
    "nb_validation_samples = int(VALIDATION_SPLIT * data.shape[0])\n",
    "\n",
    "x_train = data[:-nb_validation_samples]\n",
    "y_train = labels[:-nb_validation_samples]\n",
    "x_val = data[-nb_validation_samples:]\n",
    "y_val = labels[-nb_validation_samples:]\n",
    "\n",
    "x_test = test_data\n",
    "y_test = test_labels"
   ]
  },
  {
   "cell_type": "markdown",
   "metadata": {},
   "source": [
    "## Model 1"
   ]
  },
  {
   "cell_type": "markdown",
   "metadata": {},
   "source": [
    "\n",
    "\n",
    "In this model, we use nine layers contain one Embedding layer, three conv1D,one MaxPooling, one GlobalMaxPooling and two Dense layer. \n",
    "\n",
    "Embedding layer is for text processing.The layer will turn the number that encoded from words into vectors.\n",
    "\n",
    "Conv1D layer creates a convolution kernel that is convolved with the layer input over a single spatial (or temporal) dimension to produce a tensor of outputs.\n",
    "\n",
    "MaxPooling1D creates a operation for temporal data.\n",
    "\n",
    "GlobalMaxPooling1D for temporal data takes the max vector over the steps dimension.\n",
    "\n",
    "Dense layer represents a matrix vector multiplication. (assuming your batch size is 1) The values in the matrix are the trainable parameters which get updated during backpropagation.\n",
    "\n"
   ]
  },
  {
   "cell_type": "code",
   "execution_count": 29,
   "metadata": {},
   "outputs": [
    {
     "name": "stdout",
     "output_type": "stream",
     "text": [
      "Model: \"model_1\"\n",
      "_________________________________________________________________\n",
      "Layer (type)                 Output Shape              Param #   \n",
      "=================================================================\n",
      "input_3 (InputLayer)         [(None, 200)]             0         \n",
      "_________________________________________________________________\n",
      "embedding_2 (Embedding)      (None, 200, 100)          500000    \n",
      "_________________________________________________________________\n",
      "conv1d_6 (Conv1D)            (None, 196, 128)          64128     \n",
      "_________________________________________________________________\n",
      "max_pooling1d_4 (MaxPooling1 (None, 39, 128)           0         \n",
      "_________________________________________________________________\n",
      "conv1d_7 (Conv1D)            (None, 35, 128)           82048     \n",
      "_________________________________________________________________\n",
      "max_pooling1d_5 (MaxPooling1 (None, 7, 128)            0         \n",
      "_________________________________________________________________\n",
      "conv1d_8 (Conv1D)            (None, 3, 128)            82048     \n",
      "_________________________________________________________________\n",
      "global_max_pooling1d_2 (Glob (None, 128)               0         \n",
      "_________________________________________________________________\n",
      "dropout_1 (Dropout)          (None, 128)               0         \n",
      "_________________________________________________________________\n",
      "dense_1 (Dense)              (None, 3)                 387       \n",
      "=================================================================\n",
      "Total params: 728,611\n",
      "Trainable params: 728,611\n",
      "Non-trainable params: 0\n",
      "_________________________________________________________________\n"
     ]
    }
   ],
   "source": [
    "from tensorflow.keras.layers import Dropout\n",
    "from tensorflow.keras.layers import Dense, Input, GlobalMaxPooling1D\n",
    "from tensorflow.keras.layers import Conv1D, MaxPooling1D, Embedding\n",
    "from tensorflow.keras.models import Model\n",
    "#from keras import regularizers\n",
    "\n",
    "\n",
    "embedding_layer = Embedding(5000,\n",
    "                            100,\n",
    "                            input_length=200,\n",
    "                            trainable=True)\n",
    "\n",
    "\n",
    "sequence_input = Input(shape=(200,), dtype='int32')\n",
    "embedded_sequences = embedding_layer(sequence_input)\n",
    "x = Conv1D(128, 5, activation='relu')(embedded_sequences)\n",
    "x = MaxPooling1D(5)(x)\n",
    "x = Conv1D(128, 5, activation='relu')(x)\n",
    "x = MaxPooling1D(5)(x)\n",
    "x = Conv1D(128, 5, activation='relu')(x)\n",
    "x = GlobalMaxPooling1D()(x)\n",
    "x = Dropout(0.5)(x)\n",
    "preds = Dense(3, activation='softmax')(x)\n",
    "\n",
    "\n",
    "model1 = Model(sequence_input, preds)\n",
    "model1.compile(loss='categorical_crossentropy',\n",
    "              optimizer = tf.keras.optimizers.RMSprop(lr = 1e-3),\n",
    "              #optimizer='rmsprop',\n",
    "              metrics=['acc'])\n",
    "\n",
    "\n",
    "model1.summary()"
   ]
  },
  {
   "cell_type": "markdown",
   "metadata": {},
   "source": [
    "# Train the model"
   ]
  },
  {
   "cell_type": "code",
   "execution_count": 30,
   "metadata": {},
   "outputs": [],
   "source": [
    "history = model1.fit(x_train, y_train,\n",
    "          batch_size=32,\n",
    "          epochs=15,\n",
    "          verbose=0,\n",
    "          validation_data=(x_val, y_val))"
   ]
  },
  {
   "cell_type": "markdown",
   "metadata": {},
   "source": [
    "# Plot the accuracy and loss"
   ]
  },
  {
   "cell_type": "code",
   "execution_count": 45,
   "metadata": {},
   "outputs": [
    {
     "data": {
      "image/png": "[encoded data removed]",
      "text/plain": [
       "<Figure size 432x288 with 1 Axes>"
      ]
     },
     "metadata": {
      "needs_background": "light"
     },
     "output_type": "display_data"
    },
    {
     "data": {
      "image/png": "[encoded data removed]",
      "text/plain": [
       "<Figure size 432x288 with 1 Axes>"
      ]
     },
     "metadata": {
      "needs_background": "light"
     },
     "output_type": "display_data"
    }
   ],
   "source": [
    "import matplotlib.pyplot as plt\n",
    "acc = history.history['acc']\n",
    "val_acc = history.history['val_acc']\n",
    "loss = history.history['loss']\n",
    "val_loss = history.history['val_loss']\n",
    "e = range(len(acc))\n",
    "\n",
    "plt.plot(e, acc, label = 'train')\n",
    "plt.plot(e, val_acc, label = 'validation')\n",
    "plt.title('Training and validation accuracy')\n",
    "plt.xlabel('Epoch')\n",
    "#grid()\n",
    "plt.legend()\n",
    "\n",
    "plt.figure()\n",
    "\n",
    "plt.plot(e, loss, label = 'train')\n",
    "plt.plot(e, val_loss, label = 'validation')\n",
    "plt.title('Training and validation loss')\n",
    "plt.xlabel('Epoch')\n",
    "#grid()\n",
    "plt.legend()\n",
    "\n",
    "plt.show()"
   ]
  },
  {
   "cell_type": "markdown",
   "metadata": {},
   "source": [
    "Calculate metrics"
   ]
  },
  {
   "cell_type": "markdown",
   "metadata": {},
   "source": [
    "# Find the predicted values for the test set"
   ]
  },
  {
   "cell_type": "code",
   "execution_count": 47,
   "metadata": {},
   "outputs": [],
   "source": [
    "y_pred = np.argmax(model1.predict(x_test), axis = 1)\n",
    "y_true = np.argmax(y_test, axis = 1)"
   ]
  },
  {
   "cell_type": "markdown",
   "metadata": {},
   "source": [
    "# Calculate the classification report for the test set"
   ]
  },
  {
   "cell_type": "code",
   "execution_count": 48,
   "metadata": {},
   "outputs": [
    {
     "name": "stdout",
     "output_type": "stream",
     "text": [
      "              precision    recall  f1-score   support\n",
      "\n",
      "           0       0.31      0.19      0.24     11838\n",
      "           1       0.09      0.15      0.11      4369\n",
      "           2       0.72      0.76      0.74     37559\n",
      "\n",
      "    accuracy                           0.59     53766\n",
      "   macro avg       0.38      0.37      0.36     53766\n",
      "weighted avg       0.58      0.59      0.58     53766\n",
      "\n"
     ]
    }
   ],
   "source": [
    "cr = classification_report(y_true, y_pred)\n",
    "print(cr)"
   ]
  },
  {
   "cell_type": "markdown",
   "metadata": {},
   "source": [
    "# Calculate the confusion matrix for the test set"
   ]
  },
  {
   "cell_type": "code",
   "execution_count": 49,
   "metadata": {},
   "outputs": [
    {
     "name": "stdout",
     "output_type": "stream",
     "text": [
      "[[ 2266   603  4336]\n",
      " [ 1754   642  4663]\n",
      " [ 7818  3124 28560]]\n"
     ]
    }
   ],
   "source": [
    "cm = confusion_matrix(y_true, y_pred).T\n",
    "print(cm)"
   ]
  },
  {
   "cell_type": "markdown",
   "metadata": {},
   "source": [
    "# Calculate the cohen's kappa, both with linear and quadratic weights for the test set"
   ]
  },
  {
   "cell_type": "code",
   "execution_count": 50,
   "metadata": {},
   "outputs": [
    {
     "name": "stdout",
     "output_type": "stream",
     "text": [
      "Cohen's kappa (linear)    = 0.071\n",
      "Cohen's kappa (quadratic) = 0.099\n"
     ]
    }
   ],
   "source": [
    "# Calculate the cohen's kappa, both with linear and quadratic weights\n",
    "k = cohen_kappa_score(y_true, y_pred)\n",
    "print(f\"Cohen's kappa (linear)    = {k:.3f}\")\n",
    "k2 = cohen_kappa_score(y_true, y_pred, weights = 'quadratic')\n",
    "print(f\"Cohen's kappa (quadratic) = {k2:.3f}\")"
   ]
  },
  {
   "cell_type": "markdown",
   "metadata": {},
   "source": [
    "#  Model 2"
   ]
  },
  {
   "cell_type": "markdown",
   "metadata": {},
   "source": [
    "In this model, we use five layers contain one Embedding layer, one SpatialDropout1D layer, two LSTM layers and one Dense layer.\n",
    "\n",
    "Embedding layer is for text processing.The layer will turn the number that encoded from words into vectors.\n",
    "\n",
    "SpatialDropout1D layer is like a dropout function. We input rate(0.1) in the function and fraction of the input units will be droped.\n",
    "\n",
    "LSTM layer is a text prediction layer.The LSTM is improved from simpleRNN network.It helps us solve 'vanishing gradient' problem."
   ]
  },
  {
   "cell_type": "code",
   "execution_count": null,
   "metadata": {},
   "outputs": [],
   "source": [
    "model = Sequential()\n",
    "model.add(Embedding(5000, 128, input_length=200))\n",
    "model.add(SpatialDropout1D(0.1))\n",
    "model.add(LSTM(128, dropout=0.1, recurrent_dropout=0.1, return_sequences=True))\n",
    "model.add(LSTM(128, dropout=0.1, recurrent_dropout=0.1))\n",
    "model.add(Dense(3, activation='softmax'))\n",
    "model.compile(loss='categorical_crossentropy', optimizer='adam', metrics=['accuracy'])"
   ]
  },
  {
   "cell_type": "code",
   "execution_count": null,
   "metadata": {
    "collapsed": true
   },
   "outputs": [],
   "source": [
    "history2 = model.fit(x_train, y_train,\n",
    "          batch_size=32,\n",
    "          epochs=15,\n",
    "          verbose=0,\n",
    "          use_multiprocessing=True,  \n",
    "          validation_data=(x_val, y_val))"
   ]
  },
  {
   "cell_type": "code",
   "execution_count": null,
   "metadata": {},
   "outputs": [],
   "source": [
    "acc = history2.history['acc']\n",
    "val_acc = history2.history['val_acc']\n",
    "loss = history2.history['loss']\n",
    "val_loss = history2.history['val_loss']\n",
    "e = arange(len(acc)) + 1\n",
    "\n",
    "plot(e, acc, label = 'train')\n",
    "plot(e, val_acc, label = 'validation')\n",
    "title('Training and validation accuracy')\n",
    "xlabel('Epoch')\n",
    "grid()\n",
    "legend()\n",
    "\n",
    "figure()\n",
    "\n",
    "plot(e, loss, label = 'train')\n",
    "plot(e, val_loss, label = 'validation')\n",
    "title('Training and validation loss')\n",
    "xlabel('Epoch')\n",
    "grid()\n",
    "legend()\n",
    "\n",
    "show()"
   ]
  },
  {
   "cell_type": "markdown",
   "metadata": {},
   "source": [
    "# Find the predicted values for the test set"
   ]
  },
  {
   "cell_type": "code",
   "execution_count": null,
   "metadata": {},
   "outputs": [],
   "source": [
    "y_pred = argmax(model.predict(x_val), axis = 1)\n",
    "y_true = argmax(y_val, axis = 1)"
   ]
  },
  {
   "cell_type": "markdown",
   "metadata": {},
   "source": [
    "# Calculate the classification report for the test set"
   ]
  },
  {
   "cell_type": "code",
   "execution_count": null,
   "metadata": {},
   "outputs": [],
   "source": [
    "cr = classification_report(y_true, y_pred)\n",
    "print(cr)"
   ]
  },
  {
   "cell_type": "markdown",
   "metadata": {},
   "source": [
    "# Calculate the confusion matrix for the validation set"
   ]
  },
  {
   "cell_type": "code",
   "execution_count": null,
   "metadata": {},
   "outputs": [],
   "source": [
    "cm = confusion_matrix(y_true, y_pred).T\n",
    "print(cm)"
   ]
  },
  {
   "cell_type": "markdown",
   "metadata": {},
   "source": [
    "# Calculate the cohen's kappa, both with linear and quadratic weights for the Validation set"
   ]
  },
  {
   "cell_type": "code",
   "execution_count": null,
   "metadata": {},
   "outputs": [],
   "source": [
    "k = cohen_kappa_score(y_true, y_pred)\n",
    "print(f\"Cohen's kappa (linear)    = {k:.3f}\")\n",
    "k2 = cohen_kappa_score(y_true, y_pred, weights = 'quadratic')\n",
    "print(f\"Cohen's kappa (quadratic) = {k2:.3f}\")"
   ]
  },
  {
   "cell_type": "markdown",
   "metadata": {},
   "source": [
    "# Find the predicted values for the Test set"
   ]
  },
  {
   "cell_type": "code",
   "execution_count": null,
   "metadata": {},
   "outputs": [],
   "source": [
    "y_pred = argmax(model.predict(test_data), axis = 1)\n",
    "y_true = argmax(test_labels, axis = 1)"
   ]
  },
  {
   "cell_type": "markdown",
   "metadata": {},
   "source": [
    "# Calculate the classification report for the Test set"
   ]
  },
  {
   "cell_type": "code",
   "execution_count": null,
   "metadata": {},
   "outputs": [],
   "source": [
    "cr = classification_report(y_true, y_pred)\n",
    "print(cr)"
   ]
  },
  {
   "cell_type": "markdown",
   "metadata": {},
   "source": [
    "# Calculate the confusion matrix for the Test set"
   ]
  },
  {
   "cell_type": "code",
   "execution_count": null,
   "metadata": {},
   "outputs": [],
   "source": [
    "cm = confusion_matrix(y_true, y_pred).T\n",
    "print(cm)"
   ]
  },
  {
   "cell_type": "markdown",
   "metadata": {},
   "source": [
    "# Calculate the cohen's kappa, both with linear and quadratic weights for the Test set"
   ]
  },
  {
   "cell_type": "code",
   "execution_count": null,
   "metadata": {},
   "outputs": [],
   "source": [
    "# Calculate the cohen's kappa, both with linear and quadratic weights\n",
    "k = cohen_kappa_score(y_true, y_pred)\n",
    "print(f\"Cohen's kappa (linear)    = {k:.3f}\")\n",
    "k2 = cohen_kappa_score(y_true, y_pred, weights = 'quadratic')\n",
    "print(f\"Cohen's kappa (quadratic) = {k2:.3f}\")"
   ]
  },
  {
   "cell_type": "code",
   "execution_count": null,
   "metadata": {},
   "outputs": [],
   "source": []
  },
  {
   "cell_type": "markdown",
   "metadata": {},
   "source": [
    "Now let compare the results with Grässer et al. Table 2, p. 124.The results obtained with the results in the book.The accuracy of the data is not too different. The results from the book have an accuracy of around 90 percent while the results of our models can predict up to 80 percent.But the inter-rater reliability or Cohen's kappa of the models in the books compare with our models are quite distinct.The Cohen's kappa values from the books have almost 84, while the Cohen's kappa values of our models are around from 60 to 70."
   ]
  },
  {
   "cell_type": "markdown",
   "metadata": {},
   "source": [
    "# Conclusion"
   ]
  },
  {
   "cell_type": "markdown",
   "metadata": {},
   "source": [
    "In conclusion, in the case 3 what we did are text anylysis for predicting drug review catigories.First we start with importing data, text preprocessing, build model and vesulize the result respectively.By doing text anylysis, it helps us to explore text data and also text prediction as well.we can use text analysis in various field such as  Sentiment analysis,Language recognition,Automatization of customer service,Spam email filtering, and others.Over all It was a great experience for us.\n",
    "\n",
    "\n",
    "\n"
   ]
  },
  {
   "cell_type": "code",
   "execution_count": null,
   "metadata": {},
   "outputs": [],
   "source": []
  }
 ],
 "metadata": {
  "kernelspec": {
   "display_name": "Python 3",
   "language": "python",
   "name": "python3"
  },
  "language_info": {
   "codemirror_mode": {
    "name": "ipython",
    "version": 3
   },
   "file_extension": ".py",
   "mimetype": "text/x-python",
   "name": "python",
   "nbconvert_exporter": "python",
   "pygments_lexer": "ipython3",
   "version": "3.7.3"
  }
 },
 "nbformat": 4,
 "nbformat_minor": 4
}

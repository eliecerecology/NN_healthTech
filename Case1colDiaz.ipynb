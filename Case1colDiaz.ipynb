{
 "cells": [
  {
   "cell_type": "markdown",
   "metadata": {},
   "source": [
    "# CASE 1. Predicting Heart Condition\n"
   ]
  },
  {
   "cell_type": "markdown",
   "metadata": {},
   "source": [
    "Eliecer Diaz Diaz,\n",
    "Muskan Kaushik and \n",
    "Zakaria Hasan"
   ]
  },
  {
   "cell_type": "raw",
   "metadata": {},
   "source": [
    "INDEX\n",
    "\n",
    "I.    Background\n",
    "II.   Methods\n",
    "III.  Model Exploration and Preprocessing\n",
    "IV.   Model Fitting\n",
    "V.    Model Selection\n",
    "VI.   RESULTS and Discussion\n",
    "VII.  Coclusion\n",
    "VIII. References"
   ]
  },
  {
   "cell_type": "markdown",
   "metadata": {},
   "source": [
    "# I. BACKGROUND"
   ]
  },
  {
   "cell_type": "markdown",
   "metadata": {},
   "source": [
    "Deep Learning seems to have a promising amd dramatic impact on the health field; as a result, familiarizing ourself with the data processing techniques and with the most widely used algorithms for classification is valuable to contribute in the field of health sciences.\n",
    "\n",
    "Cleveland data set contains patient data concerning heart disease diagnosis.\n",
    "The dataset contains 14 attributes, eight of them were categorical, and six of them continuous and numeric.\n",
    "The objective of this study is test few dense neural networks to be able to predict if a patient presents heart disease or not.\n",
    "\n",
    "Objective:\n",
    "This project aimed to predict heart disease condition using neural networks as a binary classifier.\n",
    "Practice preprocessing and neural network techniques, as well as the use of metrics to analyse them."
   ]
  },
  {
   "cell_type": "markdown",
   "metadata": {},
   "source": [
    "# II. METHODS"
   ]
  },
  {
   "cell_type": "markdown",
   "metadata": {},
   "source": [
    "We proceed to examine the dataset and conduct a preprocessing following these points:\n",
    "Correct variable format:  if the documentation says it is categorical (level of pain 1, 2, 3, 4), it should not appear as a float.\n",
    "We removed rows containing NaN.\n",
    "We standardized continuous features (numeric/float).\n",
    "We encoded (one-hot encoding or dummy) categorical features.\n",
    "We check for high correlation among features (collinearity) and outliers.\n",
    "\n",
    "Second, we split the data into features and labels, and then we split them into training, validation and test set.\n",
    "Third: we proceed to train Neural Networks; our strategy started with a small and another large neural network. Each one was tunned using dropout, changing the activation, the number of neurones. Every time we took a close look at the performance of validation and training set, plotting them in terms of accuracy and loss. When over-fitting was detected, a new tunning method was applied. For space reason, we included only three Neural Networks out of a total of 50 attemps to find the right Neural Network, which does not overfit.\n",
    "Fourth: We compare the performance of the three best models using ROC curves, and finally, the best one (the most significant area under the curve AUC).\n",
    "Fifth, we got the final scores checking the confusion matrix on the F1-score."
   ]
  },
  {
   "cell_type": "code",
   "execution_count": 1,
   "metadata": {
    "colab": {
     "base_uri": "https://localhost:8080/",
     "height": 1000
    },
    "colab_type": "code",
    "id": "GTQjZWVJThVm",
    "outputId": "f44b3a77-6257-4684-bcca-b0f2fbe088fc"
   },
   "outputs": [
    {
     "name": "stdout",
     "output_type": "stream",
     "text": [
      "Populating the interactive namespace from numpy and matplotlib\n"
     ]
    }
   ],
   "source": [
    "%pylab inline\n",
    "import random\n",
    "random.seed(30)\n",
    "import tensorflow as tf\n",
    "import numpy as np\n",
    "import pandas as pd\n",
    "import matplotlib.pyplot as plt\n",
    "import seaborn as sns\n",
    "\n",
    "from sklearn.metrics import *\n",
    "from sklearn.model_selection import train_test_split\n",
    "from sklearn.preprocessing import StandardScaler"
   ]
  },
  {
   "cell_type": "code",
   "execution_count": 2,
   "metadata": {
    "colab": {},
    "colab_type": "code",
    "id": "hZBR_WenT4DE"
   },
   "outputs": [],
   "source": [
    "# Loading data, add the column names:\n",
    "filename = \"https://archive.ics.uci.edu/ml/machine-learning-databases/heart-disease/processed.cleveland.data\"\n",
    "col_name = ['age',\n",
    "            'sex',\n",
    "             'cp',\n",
    "             'chol',\n",
    "             'trestbps',\n",
    "             'fbs',\n",
    "             'restecg',\n",
    "             'thalach',\n",
    "             'exang',\n",
    "             'olddek',\n",
    "             'slope',\n",
    "             'ca',\n",
    "             'thal',\n",
    "             'num'\n",
    "    \n",
    "]\n",
    "df = pd.read_csv(filename,\n",
    "                index_col = None,\n",
    "                header = None,\n",
    "                names = col_name,\n",
    "                na_values = '?')"
   ]
  },
  {
   "cell_type": "markdown",
   "metadata": {},
   "source": [
    "# III. MODEL EXPLORATION AND PRE-PROCESSING"
   ]
  },
  {
   "cell_type": "code",
   "execution_count": 3,
   "metadata": {
    "colab": {
     "base_uri": "https://localhost:8080/",
     "height": 34
    },
    "colab_type": "code",
    "id": "iSJKHuc9YE1b",
    "outputId": "e13ed538-0d92-4ae3-e0b2-98382937957c"
   },
   "outputs": [
    {
     "data": {
      "text/plain": [
       "(303, 14)"
      ]
     },
     "execution_count": 3,
     "metadata": {},
     "output_type": "execute_result"
    }
   ],
   "source": [
    "# checking the shape of the data:\n",
    "df.shape # 303 by 14 columns"
   ]
  },
  {
   "cell_type": "code",
   "execution_count": 4,
   "metadata": {
    "colab": {
     "base_uri": "https://localhost:8080/",
     "height": 237
    },
    "colab_type": "code",
    "id": "fw5V3ls0YIlA",
    "outputId": "47aa0d38-8766-47e0-fc09-4f628f69a8db"
   },
   "outputs": [
    {
     "data": {
      "text/html": [
       "<div>\n",
       "<style scoped>\n",
       "    .dataframe tbody tr th:only-of-type {\n",
       "        vertical-align: middle;\n",
       "    }\n",
       "\n",
       "    .dataframe tbody tr th {\n",
       "        vertical-align: top;\n",
       "    }\n",
       "\n",
       "    .dataframe thead th {\n",
       "        text-align: right;\n",
       "    }\n",
       "</style>\n",
       "<table border=\"1\" class=\"dataframe\">\n",
       "  <thead>\n",
       "    <tr style=\"text-align: right;\">\n",
       "      <th></th>\n",
       "      <th>age</th>\n",
       "      <th>sex</th>\n",
       "      <th>cp</th>\n",
       "      <th>chol</th>\n",
       "      <th>trestbps</th>\n",
       "      <th>fbs</th>\n",
       "      <th>restecg</th>\n",
       "      <th>thalach</th>\n",
       "      <th>exang</th>\n",
       "      <th>olddek</th>\n",
       "      <th>slope</th>\n",
       "      <th>ca</th>\n",
       "      <th>thal</th>\n",
       "      <th>num</th>\n",
       "    </tr>\n",
       "  </thead>\n",
       "  <tbody>\n",
       "    <tr>\n",
       "      <th>87</th>\n",
       "      <td>53.0</td>\n",
       "      <td>0.0</td>\n",
       "      <td>3.0</td>\n",
       "      <td>128.0</td>\n",
       "      <td>216.0</td>\n",
       "      <td>0.0</td>\n",
       "      <td>2.0</td>\n",
       "      <td>115.0</td>\n",
       "      <td>0.0</td>\n",
       "      <td>0.0</td>\n",
       "      <td>1.0</td>\n",
       "      <td>0.0</td>\n",
       "      <td>NaN</td>\n",
       "      <td>0</td>\n",
       "    </tr>\n",
       "    <tr>\n",
       "      <th>166</th>\n",
       "      <td>52.0</td>\n",
       "      <td>1.0</td>\n",
       "      <td>3.0</td>\n",
       "      <td>138.0</td>\n",
       "      <td>223.0</td>\n",
       "      <td>0.0</td>\n",
       "      <td>0.0</td>\n",
       "      <td>169.0</td>\n",
       "      <td>0.0</td>\n",
       "      <td>0.0</td>\n",
       "      <td>1.0</td>\n",
       "      <td>NaN</td>\n",
       "      <td>3.0</td>\n",
       "      <td>0</td>\n",
       "    </tr>\n",
       "    <tr>\n",
       "      <th>192</th>\n",
       "      <td>43.0</td>\n",
       "      <td>1.0</td>\n",
       "      <td>4.0</td>\n",
       "      <td>132.0</td>\n",
       "      <td>247.0</td>\n",
       "      <td>1.0</td>\n",
       "      <td>2.0</td>\n",
       "      <td>143.0</td>\n",
       "      <td>1.0</td>\n",
       "      <td>0.1</td>\n",
       "      <td>2.0</td>\n",
       "      <td>NaN</td>\n",
       "      <td>7.0</td>\n",
       "      <td>1</td>\n",
       "    </tr>\n",
       "    <tr>\n",
       "      <th>266</th>\n",
       "      <td>52.0</td>\n",
       "      <td>1.0</td>\n",
       "      <td>4.0</td>\n",
       "      <td>128.0</td>\n",
       "      <td>204.0</td>\n",
       "      <td>1.0</td>\n",
       "      <td>0.0</td>\n",
       "      <td>156.0</td>\n",
       "      <td>1.0</td>\n",
       "      <td>1.0</td>\n",
       "      <td>2.0</td>\n",
       "      <td>0.0</td>\n",
       "      <td>NaN</td>\n",
       "      <td>2</td>\n",
       "    </tr>\n",
       "    <tr>\n",
       "      <th>287</th>\n",
       "      <td>58.0</td>\n",
       "      <td>1.0</td>\n",
       "      <td>2.0</td>\n",
       "      <td>125.0</td>\n",
       "      <td>220.0</td>\n",
       "      <td>0.0</td>\n",
       "      <td>0.0</td>\n",
       "      <td>144.0</td>\n",
       "      <td>0.0</td>\n",
       "      <td>0.4</td>\n",
       "      <td>2.0</td>\n",
       "      <td>NaN</td>\n",
       "      <td>7.0</td>\n",
       "      <td>0</td>\n",
       "    </tr>\n",
       "    <tr>\n",
       "      <th>302</th>\n",
       "      <td>38.0</td>\n",
       "      <td>1.0</td>\n",
       "      <td>3.0</td>\n",
       "      <td>138.0</td>\n",
       "      <td>175.0</td>\n",
       "      <td>0.0</td>\n",
       "      <td>0.0</td>\n",
       "      <td>173.0</td>\n",
       "      <td>0.0</td>\n",
       "      <td>0.0</td>\n",
       "      <td>1.0</td>\n",
       "      <td>NaN</td>\n",
       "      <td>3.0</td>\n",
       "      <td>0</td>\n",
       "    </tr>\n",
       "  </tbody>\n",
       "</table>\n",
       "</div>"
      ],
      "text/plain": [
       "      age  sex   cp   chol  trestbps  fbs  restecg  thalach  exang  olddek  \\\n",
       "87   53.0  0.0  3.0  128.0     216.0  0.0      2.0    115.0    0.0     0.0   \n",
       "166  52.0  1.0  3.0  138.0     223.0  0.0      0.0    169.0    0.0     0.0   \n",
       "192  43.0  1.0  4.0  132.0     247.0  1.0      2.0    143.0    1.0     0.1   \n",
       "266  52.0  1.0  4.0  128.0     204.0  1.0      0.0    156.0    1.0     1.0   \n",
       "287  58.0  1.0  2.0  125.0     220.0  0.0      0.0    144.0    0.0     0.4   \n",
       "302  38.0  1.0  3.0  138.0     175.0  0.0      0.0    173.0    0.0     0.0   \n",
       "\n",
       "     slope   ca  thal  num  \n",
       "87     1.0  0.0   NaN    0  \n",
       "166    1.0  NaN   3.0    0  \n",
       "192    2.0  NaN   7.0    1  \n",
       "266    2.0  0.0   NaN    2  \n",
       "287    2.0  NaN   7.0    0  \n",
       "302    1.0  NaN   3.0    0  "
      ]
     },
     "execution_count": 4,
     "metadata": {},
     "output_type": "execute_result"
    }
   ],
   "source": [
    "# Which are the rows with missing data?\n",
    "null_data = df[df.isnull().any(axis=1)]\n",
    "null_data"
   ]
  },
  {
   "cell_type": "code",
   "execution_count": 5,
   "metadata": {
    "colab": {
     "base_uri": "https://localhost:8080/",
     "height": 34
    },
    "colab_type": "code",
    "id": "hB9jwZN2RwZG",
    "outputId": "c36bb659-05af-4551-da24-55bb972ebba5"
   },
   "outputs": [
    {
     "data": {
      "text/plain": [
       "(297, 14)"
      ]
     },
     "execution_count": 5,
     "metadata": {},
     "output_type": "execute_result"
    }
   ],
   "source": [
    "# Removing the NaN rows, they were only 6\n",
    "df = df.dropna()\n",
    "#df.head()\n",
    "df.shape"
   ]
  },
  {
   "cell_type": "code",
   "execution_count": 6,
   "metadata": {
    "colab": {
     "base_uri": "https://localhost:8080/",
     "height": 278
    },
    "colab_type": "code",
    "id": "IpRbPGMPYTwH",
    "outputId": "3ad773e4-60cc-41f7-d4c7-a2456fe86a84"
   },
   "outputs": [
    {
     "data": {
      "text/plain": [
       "age         float64\n",
       "sex         float64\n",
       "cp          float64\n",
       "chol        float64\n",
       "trestbps    float64\n",
       "fbs         float64\n",
       "restecg     float64\n",
       "thalach     float64\n",
       "exang       float64\n",
       "olddek      float64\n",
       "slope       float64\n",
       "ca          float64\n",
       "thal        float64\n",
       "num           int64\n",
       "dtype: object"
      ]
     },
     "execution_count": 6,
     "metadata": {},
     "output_type": "execute_result"
    }
   ],
   "source": [
    "# What are the types?\n",
    "df.dtypes"
   ]
  },
  {
   "cell_type": "markdown",
   "metadata": {},
   "source": [
    "Obviously there is something error since there are some categorical variables,\n",
    "then not all the variables can be float, see documentation:"
   ]
  },
  {
   "cell_type": "code",
   "execution_count": 7,
   "metadata": {
    "colab": {},
    "colab_type": "code",
    "id": "Qwez3Q9-Yb-Y"
   },
   "outputs": [],
   "source": [
    "#############################\n",
    "# DETAILS about the dataset:#\n",
    "#############################\n",
    "\n",
    "#age: age in years \n",
    "#sex: sex (1 = male; 0 = female)                                 <-----should be category\n",
    "#cp: chest pain type                                             <-----should be category\n",
    "#        -- Value 1: typical angina\n",
    "#        -- Value 2: atypical angina\n",
    "#        -- Value 3: non-anginal pain\n",
    "#        -- Value 4: asymptomatic\n",
    "#restbps: resting blood pressure (in mm Hg on admission to the \n",
    "#        hospital)            \n",
    "#chol: serum cholestoral in mg/dl\n",
    "#fbs: (fasting blood sugar > 120 mg/dl)  (1 = true; 0 = false) <-----should be category   \n",
    "#restecg: resting electrocardiographic results                 <-----should be category\n",
    "#        -- Value 0: normal\n",
    "#        -- Value 1: having ST-T wave abnormality (T wave inversions and/or ST \n",
    "#                    elevation or depression of > 0.05 mV)\n",
    "#        -- Value 2: showing probable or definite left ventricular hypertrophy\n",
    "#                    by Estes' criteria\n",
    "#thalach: maximum heart rate achieved\n",
    "#exang: exercise induced angina (1 = yes; 0 = no)             <-----should be category\n",
    "#olddek: ?? (continuous)\n",
    "#slope: the slope of the peak exercise ST segment             <-----should be category\n",
    "#        -- Value 1: upsloping\n",
    "#        -- Value 2: flat\n",
    "#        -- Value 3: downsloping\n",
    "#ca: number of major vessels (0-3) colored by flourosopy       <-----should be INTEGER\n",
    "#thal: 3 = normal; 6 = fixed defect; 7 = reversable defect     <-----should be category\n",
    "#num: diagnosis of heart disease (angiographic disease status) <-----should be category\n",
    "#        -- Value 0: < 50% diameter narrowing\n",
    "#        -- Value 1: > 50% diameter narrowing\n",
    "#        (in any major vessel: attributes 59 through 68 are vessels)"
   ]
  },
  {
   "cell_type": "markdown",
   "metadata": {
    "colab_type": "text",
    "id": "LeCGD90raKfe"
   },
   "source": [
    "Here we proceed to transform the variables:"
   ]
  },
  {
   "cell_type": "code",
   "execution_count": 8,
   "metadata": {
    "colab": {},
    "colab_type": "code",
    "id": "wG3MCQP5ZdQC"
   },
   "outputs": [],
   "source": [
    "df[\"sex\"] = df[\"sex\"].astype('category')\n",
    "df[\"cp\"] = df[\"sex\"].astype('category')\n",
    "df[\"fbs\"] = df[\"fbs\"].astype('category')\n",
    "df[\"restecg\"] = df[\"restecg\"].astype('category')\n",
    "df[\"slope\"] = df[\"slope\"].astype('category')\n",
    "df[\"ca\"] = df[\"ca\"].astype('category')\n",
    "df[\"thal\"] = df[\"thal\"].astype('category')\n",
    "df[\"exang\"] = df[\"exang\"].astype('category')\n",
    "df[\"num\"] = df[\"num\"].astype('category')"
   ]
  },
  {
   "cell_type": "code",
   "execution_count": 9,
   "metadata": {
    "colab": {
     "base_uri": "https://localhost:8080/",
     "height": 278
    },
    "colab_type": "code",
    "id": "535D54WYaNa9",
    "outputId": "e22aad89-9209-4bb8-cfa1-3532640b9c3c"
   },
   "outputs": [
    {
     "data": {
      "text/plain": [
       "age          float64\n",
       "sex         category\n",
       "cp          category\n",
       "chol         float64\n",
       "trestbps     float64\n",
       "fbs         category\n",
       "restecg     category\n",
       "thalach      float64\n",
       "exang       category\n",
       "olddek       float64\n",
       "slope       category\n",
       "ca          category\n",
       "thal        category\n",
       "num         category\n",
       "dtype: object"
      ]
     },
     "execution_count": 9,
     "metadata": {},
     "output_type": "execute_result"
    }
   ],
   "source": [
    "df.dtypes"
   ]
  },
  {
   "cell_type": "markdown",
   "metadata": {},
   "source": [
    "Now thre features are in the right type"
   ]
  },
  {
   "cell_type": "markdown",
   "metadata": {
    "colab_type": "text",
    "id": "tC56cI1PcApZ"
   },
   "source": [
    "We proceed to shuffle the row to have an effective data splitting (to avoid any order or grouping in the data set):"
   ]
  },
  {
   "cell_type": "code",
   "execution_count": 10,
   "metadata": {
    "colab": {},
    "colab_type": "code",
    "id": "FHJvtrK_b-e9"
   },
   "outputs": [],
   "source": [
    "#SHUFFLING\n",
    "df = df.sample(frac=1)"
   ]
  },
  {
   "cell_type": "markdown",
   "metadata": {
    "colab_type": "text",
    "id": "9Cgf3dtLcGOo"
   },
   "source": [
    "# FIRST SPLIT: Feature matrix(X) and Labers (Y)"
   ]
  },
  {
   "cell_type": "code",
   "execution_count": 11,
   "metadata": {
    "colab": {},
    "colab_type": "code",
    "id": "gAt1J35NcDdc"
   },
   "outputs": [],
   "source": [
    "X = df.iloc[:, 0:13] # DATA\n",
    "Y = 1*(df.iloc[:, 13].astype('float64') > 0) \n"
   ]
  },
  {
   "cell_type": "code",
   "execution_count": 12,
   "metadata": {
    "colab": {},
    "colab_type": "code",
    "id": "KXXHwlMoBDjc"
   },
   "outputs": [],
   "source": [
    "#Get the categorial variables in one dataframe separated from the continuos data\n",
    "# only because it is easier to do encoding. (PRACTICAL REASON)\n",
    "\n",
    "Xcate = X[[\"sex\", \"fbs\", \"restecg\", \"slope\", \"ca\", \"thal\"]]\n",
    "Xnume = X.select_dtypes(include=['float64'])"
   ]
  },
  {
   "cell_type": "code",
   "execution_count": 13,
   "metadata": {
    "colab": {
     "base_uri": "https://localhost:8080/",
     "height": 34
    },
    "colab_type": "code",
    "id": "WTmsf1zxcU8Q",
    "outputId": "02b474e1-2442-41bb-c79c-27fdfef85efb"
   },
   "outputs": [
    {
     "data": {
      "text/plain": [
       "dtype('int64')"
      ]
     },
     "execution_count": 13,
     "metadata": {},
     "output_type": "execute_result"
    }
   ],
   "source": [
    "Y.dtype # YES, integer"
   ]
  },
  {
   "cell_type": "code",
   "execution_count": 14,
   "metadata": {
    "colab": {
     "base_uri": "https://localhost:8080/",
     "height": 106
    },
    "colab_type": "code",
    "id": "TNBJhYswAm8o",
    "outputId": "f2d4a2e4-062a-490a-86f9-3c6a64b3fedc"
   },
   "outputs": [],
   "source": [
    "# Put in memory the column names in case they get lost with a numpy transformation (PRACTICAL REASON):\n",
    "column_Xcate = Xcate.columns.get_values()\n",
    "column_Xnume = Xnume.columns.get_values()"
   ]
  },
  {
   "cell_type": "markdown",
   "metadata": {},
   "source": [
    "#STANDARZDIZATION for numeric variables/features:"
   ]
  },
  {
   "cell_type": "code",
   "execution_count": 15,
   "metadata": {
    "colab": {},
    "colab_type": "code",
    "id": "I-mQe4Km-nPz"
   },
   "outputs": [],
   "source": [
    "from sklearn.preprocessing import StandardScaler\n",
    "Xnume_STD = StandardScaler().fit_transform(Xnume)\n",
    "Xnume_STD = pd.DataFrame(Xnume_STD, columns = column_Xnume)"
   ]
  },
  {
   "cell_type": "code",
   "execution_count": 16,
   "metadata": {
    "colab": {
     "base_uri": "https://localhost:8080/",
     "height": 300
    },
    "colab_type": "code",
    "id": "dbFhirvw-neZ",
    "outputId": "1b9ef3a8-cfc6-4b22-e536-dff2b4fe10a2"
   },
   "outputs": [
    {
     "data": {
      "text/html": [
       "<div>\n",
       "<style scoped>\n",
       "    .dataframe tbody tr th:only-of-type {\n",
       "        vertical-align: middle;\n",
       "    }\n",
       "\n",
       "    .dataframe tbody tr th {\n",
       "        vertical-align: top;\n",
       "    }\n",
       "\n",
       "    .dataframe thead th {\n",
       "        text-align: right;\n",
       "    }\n",
       "</style>\n",
       "<table border=\"1\" class=\"dataframe\">\n",
       "  <thead>\n",
       "    <tr style=\"text-align: right;\">\n",
       "      <th></th>\n",
       "      <th>age</th>\n",
       "      <th>chol</th>\n",
       "      <th>trestbps</th>\n",
       "      <th>thalach</th>\n",
       "      <th>olddek</th>\n",
       "    </tr>\n",
       "  </thead>\n",
       "  <tbody>\n",
       "    <tr>\n",
       "      <th>count</th>\n",
       "      <td>2.970000e+02</td>\n",
       "      <td>2.970000e+02</td>\n",
       "      <td>2.970000e+02</td>\n",
       "      <td>2.970000e+02</td>\n",
       "      <td>2.970000e+02</td>\n",
       "    </tr>\n",
       "    <tr>\n",
       "      <th>mean</th>\n",
       "      <td>-1.270962e-16</td>\n",
       "      <td>4.893205e-16</td>\n",
       "      <td>-1.600852e-16</td>\n",
       "      <td>5.089457e-16</td>\n",
       "      <td>-9.756505e-17</td>\n",
       "    </tr>\n",
       "    <tr>\n",
       "      <th>std</th>\n",
       "      <td>1.001688e+00</td>\n",
       "      <td>1.001688e+00</td>\n",
       "      <td>1.001688e+00</td>\n",
       "      <td>1.001688e+00</td>\n",
       "      <td>1.001688e+00</td>\n",
       "    </tr>\n",
       "    <tr>\n",
       "      <th>min</th>\n",
       "      <td>-2.827176e+00</td>\n",
       "      <td>-2.125634e+00</td>\n",
       "      <td>-2.337704e+00</td>\n",
       "      <td>-3.431849e+00</td>\n",
       "      <td>-9.067116e-01</td>\n",
       "    </tr>\n",
       "    <tr>\n",
       "      <th>25%</th>\n",
       "      <td>-7.241238e-01</td>\n",
       "      <td>-6.594306e-01</td>\n",
       "      <td>-7.002541e-01</td>\n",
       "      <td>-7.247694e-01</td>\n",
       "      <td>-9.067116e-01</td>\n",
       "    </tr>\n",
       "    <tr>\n",
       "      <th>50%</th>\n",
       "      <td>1.613719e-01</td>\n",
       "      <td>-9.550637e-02</td>\n",
       "      <td>-8.380217e-02</td>\n",
       "      <td>1.484822e-01</td>\n",
       "      <td>-2.195197e-01</td>\n",
       "    </tr>\n",
       "    <tr>\n",
       "      <th>75%</th>\n",
       "      <td>7.148067e-01</td>\n",
       "      <td>4.684179e-01</td>\n",
       "      <td>5.519138e-01</td>\n",
       "      <td>7.160957e-01</td>\n",
       "      <td>4.676723e-01</td>\n",
       "    </tr>\n",
       "    <tr>\n",
       "      <th>max</th>\n",
       "      <td>2.485798e+00</td>\n",
       "      <td>3.851964e+00</td>\n",
       "      <td>6.099981e+00</td>\n",
       "      <td>2.287949e+00</td>\n",
       "      <td>4.419026e+00</td>\n",
       "    </tr>\n",
       "  </tbody>\n",
       "</table>\n",
       "</div>"
      ],
      "text/plain": [
       "                age          chol      trestbps       thalach        olddek\n",
       "count  2.970000e+02  2.970000e+02  2.970000e+02  2.970000e+02  2.970000e+02\n",
       "mean  -1.270962e-16  4.893205e-16 -1.600852e-16  5.089457e-16 -9.756505e-17\n",
       "std    1.001688e+00  1.001688e+00  1.001688e+00  1.001688e+00  1.001688e+00\n",
       "min   -2.827176e+00 -2.125634e+00 -2.337704e+00 -3.431849e+00 -9.067116e-01\n",
       "25%   -7.241238e-01 -6.594306e-01 -7.002541e-01 -7.247694e-01 -9.067116e-01\n",
       "50%    1.613719e-01 -9.550637e-02 -8.380217e-02  1.484822e-01 -2.195197e-01\n",
       "75%    7.148067e-01  4.684179e-01  5.519138e-01  7.160957e-01  4.676723e-01\n",
       "max    2.485798e+00  3.851964e+00  6.099981e+00  2.287949e+00  4.419026e+00"
      ]
     },
     "execution_count": 16,
     "metadata": {},
     "output_type": "execute_result"
    }
   ],
   "source": [
    "Xnume_STD.describe() # success"
   ]
  },
  {
   "cell_type": "code",
   "execution_count": 17,
   "metadata": {
    "colab": {},
    "colab_type": "code",
    "id": "XNNGd29e-nqQ"
   },
   "outputs": [],
   "source": [
    "#ending standardization of numerical variables"
   ]
  },
  {
   "cell_type": "markdown",
   "metadata": {
    "colab_type": "text",
    "id": "bFm8zAqVFvCp"
   },
   "source": [
    "Appending, the numeric variables to the categorixal variables:"
   ]
  },
  {
   "cell_type": "code",
   "execution_count": 18,
   "metadata": {
    "colab": {
     "base_uri": "https://localhost:8080/",
     "height": 143
    },
    "colab_type": "code",
    "id": "V45yi1FBFt_P",
    "outputId": "f70f6534-db13-4a05-e3c6-9d6d1b5ec216"
   },
   "outputs": [
    {
     "data": {
      "text/html": [
       "<div>\n",
       "<style scoped>\n",
       "    .dataframe tbody tr th:only-of-type {\n",
       "        vertical-align: middle;\n",
       "    }\n",
       "\n",
       "    .dataframe tbody tr th {\n",
       "        vertical-align: top;\n",
       "    }\n",
       "\n",
       "    .dataframe thead th {\n",
       "        text-align: right;\n",
       "    }\n",
       "</style>\n",
       "<table border=\"1\" class=\"dataframe\">\n",
       "  <thead>\n",
       "    <tr style=\"text-align: right;\">\n",
       "      <th></th>\n",
       "      <th>age</th>\n",
       "      <th>chol</th>\n",
       "      <th>trestbps</th>\n",
       "      <th>thalach</th>\n",
       "      <th>olddek</th>\n",
       "      <th>sex</th>\n",
       "      <th>fbs</th>\n",
       "      <th>restecg</th>\n",
       "      <th>slope</th>\n",
       "      <th>ca</th>\n",
       "      <th>thal</th>\n",
       "    </tr>\n",
       "  </thead>\n",
       "  <tbody>\n",
       "    <tr>\n",
       "      <th>0</th>\n",
       "      <td>-1.277559</td>\n",
       "      <td>-0.546646</td>\n",
       "      <td>-0.661726</td>\n",
       "      <td>0.672433</td>\n",
       "      <td>-0.734914</td>\n",
       "      <td>1.0</td>\n",
       "      <td>1.0</td>\n",
       "      <td>2.0</td>\n",
       "      <td>3.0</td>\n",
       "      <td>0.0</td>\n",
       "      <td>6.0</td>\n",
       "    </tr>\n",
       "    <tr>\n",
       "      <th>1</th>\n",
       "      <td>0.382746</td>\n",
       "      <td>1.032342</td>\n",
       "      <td>0.686763</td>\n",
       "      <td>0.541445</td>\n",
       "      <td>-0.047722</td>\n",
       "      <td>1.0</td>\n",
       "      <td>0.0</td>\n",
       "      <td>2.0</td>\n",
       "      <td>2.0</td>\n",
       "      <td>3.0</td>\n",
       "      <td>3.0</td>\n",
       "    </tr>\n",
       "    <tr>\n",
       "      <th>2</th>\n",
       "      <td>-1.941680</td>\n",
       "      <td>-0.659431</td>\n",
       "      <td>-0.623198</td>\n",
       "      <td>0.890746</td>\n",
       "      <td>-0.906712</td>\n",
       "      <td>1.0</td>\n",
       "      <td>0.0</td>\n",
       "      <td>2.0</td>\n",
       "      <td>2.0</td>\n",
       "      <td>2.0</td>\n",
       "      <td>7.0</td>\n",
       "    </tr>\n",
       "  </tbody>\n",
       "</table>\n",
       "</div>"
      ],
      "text/plain": [
       "        age      chol  trestbps   thalach    olddek  sex  fbs restecg slope  \\\n",
       "0 -1.277559 -0.546646 -0.661726  0.672433 -0.734914  1.0  1.0     2.0   3.0   \n",
       "1  0.382746  1.032342  0.686763  0.541445 -0.047722  1.0  0.0     2.0   2.0   \n",
       "2 -1.941680 -0.659431 -0.623198  0.890746 -0.906712  1.0  0.0     2.0   2.0   \n",
       "\n",
       "    ca thal  \n",
       "0  0.0  6.0  \n",
       "1  3.0  3.0  \n",
       "2  2.0  7.0  "
      ]
     },
     "execution_count": 18,
     "metadata": {},
     "output_type": "execute_result"
    }
   ],
   "source": [
    "X_STD = pd.concat([Xnume_STD, Xcate], axis=1)\n",
    "X_STD.head(3)"
   ]
  },
  {
   "cell_type": "markdown",
   "metadata": {
    "colab_type": "text",
    "id": "cRblVpIZgkgZ"
   },
   "source": [
    "START ONE-HOT ENCONDING OF CATEGORICAL FEATURES:"
   ]
  },
  {
   "cell_type": "code",
   "execution_count": 19,
   "metadata": {
    "colab": {
     "base_uri": "https://localhost:8080/",
     "height": 444
    },
    "colab_type": "code",
    "id": "8Bk1_t8Q1SV_",
    "outputId": "6418fc51-dd93-42e2-8251-ff12c0983ff6"
   },
   "outputs": [
    {
     "data": {
      "text/html": [
       "<div>\n",
       "<style scoped>\n",
       "    .dataframe tbody tr th:only-of-type {\n",
       "        vertical-align: middle;\n",
       "    }\n",
       "\n",
       "    .dataframe tbody tr th {\n",
       "        vertical-align: top;\n",
       "    }\n",
       "\n",
       "    .dataframe thead th {\n",
       "        text-align: right;\n",
       "    }\n",
       "</style>\n",
       "<table border=\"1\" class=\"dataframe\">\n",
       "  <thead>\n",
       "    <tr style=\"text-align: right;\">\n",
       "      <th></th>\n",
       "      <th>age</th>\n",
       "      <th>chol</th>\n",
       "      <th>trestbps</th>\n",
       "      <th>thalach</th>\n",
       "      <th>olddek</th>\n",
       "      <th>sex_0.0</th>\n",
       "      <th>sex_1.0</th>\n",
       "      <th>fbs_0.0</th>\n",
       "      <th>fbs_1.0</th>\n",
       "      <th>restecg_0.0</th>\n",
       "      <th>...</th>\n",
       "      <th>slope_1.0</th>\n",
       "      <th>slope_2.0</th>\n",
       "      <th>slope_3.0</th>\n",
       "      <th>ca_0.0</th>\n",
       "      <th>ca_1.0</th>\n",
       "      <th>ca_2.0</th>\n",
       "      <th>ca_3.0</th>\n",
       "      <th>thal_3.0</th>\n",
       "      <th>thal_6.0</th>\n",
       "      <th>thal_7.0</th>\n",
       "    </tr>\n",
       "  </thead>\n",
       "  <tbody>\n",
       "    <tr>\n",
       "      <th>287</th>\n",
       "      <td>-0.170689</td>\n",
       "      <td>-0.095506</td>\n",
       "      <td>-0.969952</td>\n",
       "      <td>0.104820</td>\n",
       "      <td>0.124076</td>\n",
       "      <td>0</td>\n",
       "      <td>0</td>\n",
       "      <td>0</td>\n",
       "      <td>0</td>\n",
       "      <td>0</td>\n",
       "      <td>...</td>\n",
       "      <td>0</td>\n",
       "      <td>0</td>\n",
       "      <td>0</td>\n",
       "      <td>0</td>\n",
       "      <td>0</td>\n",
       "      <td>0</td>\n",
       "      <td>0</td>\n",
       "      <td>0</td>\n",
       "      <td>0</td>\n",
       "      <td>0</td>\n",
       "    </tr>\n",
       "    <tr>\n",
       "      <th>288</th>\n",
       "      <td>-0.613437</td>\n",
       "      <td>0.130063</td>\n",
       "      <td>0.455593</td>\n",
       "      <td>0.541445</td>\n",
       "      <td>-0.906712</td>\n",
       "      <td>0</td>\n",
       "      <td>1</td>\n",
       "      <td>1</td>\n",
       "      <td>0</td>\n",
       "      <td>0</td>\n",
       "      <td>...</td>\n",
       "      <td>1</td>\n",
       "      <td>0</td>\n",
       "      <td>0</td>\n",
       "      <td>1</td>\n",
       "      <td>0</td>\n",
       "      <td>0</td>\n",
       "      <td>0</td>\n",
       "      <td>0</td>\n",
       "      <td>0</td>\n",
       "      <td>1</td>\n",
       "    </tr>\n",
       "    <tr>\n",
       "      <th>289</th>\n",
       "      <td>1.710989</td>\n",
       "      <td>1.596266</td>\n",
       "      <td>0.417065</td>\n",
       "      <td>-1.641684</td>\n",
       "      <td>1.584359</td>\n",
       "      <td>0</td>\n",
       "      <td>1</td>\n",
       "      <td>1</td>\n",
       "      <td>0</td>\n",
       "      <td>1</td>\n",
       "      <td>...</td>\n",
       "      <td>0</td>\n",
       "      <td>0</td>\n",
       "      <td>1</td>\n",
       "      <td>1</td>\n",
       "      <td>0</td>\n",
       "      <td>0</td>\n",
       "      <td>0</td>\n",
       "      <td>1</td>\n",
       "      <td>0</td>\n",
       "      <td>0</td>\n",
       "    </tr>\n",
       "    <tr>\n",
       "      <th>290</th>\n",
       "      <td>1.046868</td>\n",
       "      <td>2.724115</td>\n",
       "      <td>1.495856</td>\n",
       "      <td>0.192145</td>\n",
       "      <td>-0.906712</td>\n",
       "      <td>0</td>\n",
       "      <td>1</td>\n",
       "      <td>1</td>\n",
       "      <td>0</td>\n",
       "      <td>0</td>\n",
       "      <td>...</td>\n",
       "      <td>0</td>\n",
       "      <td>1</td>\n",
       "      <td>0</td>\n",
       "      <td>1</td>\n",
       "      <td>0</td>\n",
       "      <td>0</td>\n",
       "      <td>0</td>\n",
       "      <td>0</td>\n",
       "      <td>0</td>\n",
       "      <td>1</td>\n",
       "    </tr>\n",
       "    <tr>\n",
       "      <th>291</th>\n",
       "      <td>0.382746</td>\n",
       "      <td>0.017278</td>\n",
       "      <td>-0.449820</td>\n",
       "      <td>1.021734</td>\n",
       "      <td>1.842056</td>\n",
       "      <td>1</td>\n",
       "      <td>0</td>\n",
       "      <td>1</td>\n",
       "      <td>0</td>\n",
       "      <td>1</td>\n",
       "      <td>...</td>\n",
       "      <td>1</td>\n",
       "      <td>0</td>\n",
       "      <td>0</td>\n",
       "      <td>1</td>\n",
       "      <td>0</td>\n",
       "      <td>0</td>\n",
       "      <td>0</td>\n",
       "      <td>1</td>\n",
       "      <td>0</td>\n",
       "      <td>0</td>\n",
       "    </tr>\n",
       "    <tr>\n",
       "      <th>292</th>\n",
       "      <td>-0.060002</td>\n",
       "      <td>3.400824</td>\n",
       "      <td>0.686763</td>\n",
       "      <td>1.982310</td>\n",
       "      <td>-0.906712</td>\n",
       "      <td>0</td>\n",
       "      <td>1</td>\n",
       "      <td>1</td>\n",
       "      <td>0</td>\n",
       "      <td>1</td>\n",
       "      <td>...</td>\n",
       "      <td>0</td>\n",
       "      <td>0</td>\n",
       "      <td>1</td>\n",
       "      <td>1</td>\n",
       "      <td>0</td>\n",
       "      <td>0</td>\n",
       "      <td>0</td>\n",
       "      <td>0</td>\n",
       "      <td>1</td>\n",
       "      <td>0</td>\n",
       "    </tr>\n",
       "    <tr>\n",
       "      <th>293</th>\n",
       "      <td>0.161372</td>\n",
       "      <td>-0.659431</td>\n",
       "      <td>-0.218651</td>\n",
       "      <td>1.240047</td>\n",
       "      <td>-0.219520</td>\n",
       "      <td>0</td>\n",
       "      <td>1</td>\n",
       "      <td>1</td>\n",
       "      <td>0</td>\n",
       "      <td>0</td>\n",
       "      <td>...</td>\n",
       "      <td>1</td>\n",
       "      <td>0</td>\n",
       "      <td>0</td>\n",
       "      <td>0</td>\n",
       "      <td>0</td>\n",
       "      <td>1</td>\n",
       "      <td>0</td>\n",
       "      <td>0</td>\n",
       "      <td>0</td>\n",
       "      <td>1</td>\n",
       "    </tr>\n",
       "    <tr>\n",
       "      <th>294</th>\n",
       "      <td>1.378929</td>\n",
       "      <td>-0.941393</td>\n",
       "      <td>6.099981</td>\n",
       "      <td>0.454120</td>\n",
       "      <td>0.467672</td>\n",
       "      <td>1</td>\n",
       "      <td>0</td>\n",
       "      <td>1</td>\n",
       "      <td>0</td>\n",
       "      <td>1</td>\n",
       "      <td>...</td>\n",
       "      <td>0</td>\n",
       "      <td>1</td>\n",
       "      <td>0</td>\n",
       "      <td>1</td>\n",
       "      <td>0</td>\n",
       "      <td>0</td>\n",
       "      <td>0</td>\n",
       "      <td>1</td>\n",
       "      <td>0</td>\n",
       "      <td>0</td>\n",
       "    </tr>\n",
       "    <tr>\n",
       "      <th>295</th>\n",
       "      <td>0.936181</td>\n",
       "      <td>-1.336140</td>\n",
       "      <td>0.417065</td>\n",
       "      <td>0.847083</td>\n",
       "      <td>0.639470</td>\n",
       "      <td>0</td>\n",
       "      <td>1</td>\n",
       "      <td>1</td>\n",
       "      <td>0</td>\n",
       "      <td>1</td>\n",
       "      <td>...</td>\n",
       "      <td>1</td>\n",
       "      <td>0</td>\n",
       "      <td>0</td>\n",
       "      <td>1</td>\n",
       "      <td>0</td>\n",
       "      <td>0</td>\n",
       "      <td>0</td>\n",
       "      <td>1</td>\n",
       "      <td>0</td>\n",
       "      <td>0</td>\n",
       "    </tr>\n",
       "    <tr>\n",
       "      <th>296</th>\n",
       "      <td>-1.166872</td>\n",
       "      <td>-0.772215</td>\n",
       "      <td>-0.103066</td>\n",
       "      <td>-0.026168</td>\n",
       "      <td>-0.649015</td>\n",
       "      <td>0</td>\n",
       "      <td>1</td>\n",
       "      <td>0</td>\n",
       "      <td>1</td>\n",
       "      <td>0</td>\n",
       "      <td>...</td>\n",
       "      <td>0</td>\n",
       "      <td>1</td>\n",
       "      <td>0</td>\n",
       "      <td>0</td>\n",
       "      <td>0</td>\n",
       "      <td>1</td>\n",
       "      <td>0</td>\n",
       "      <td>0</td>\n",
       "      <td>1</td>\n",
       "      <td>0</td>\n",
       "    </tr>\n",
       "  </tbody>\n",
       "</table>\n",
       "<p>10 rows × 22 columns</p>\n",
       "</div>"
      ],
      "text/plain": [
       "          age      chol  trestbps   thalach    olddek  sex_0.0  sex_1.0  \\\n",
       "287 -0.170689 -0.095506 -0.969952  0.104820  0.124076        0        0   \n",
       "288 -0.613437  0.130063  0.455593  0.541445 -0.906712        0        1   \n",
       "289  1.710989  1.596266  0.417065 -1.641684  1.584359        0        1   \n",
       "290  1.046868  2.724115  1.495856  0.192145 -0.906712        0        1   \n",
       "291  0.382746  0.017278 -0.449820  1.021734  1.842056        1        0   \n",
       "292 -0.060002  3.400824  0.686763  1.982310 -0.906712        0        1   \n",
       "293  0.161372 -0.659431 -0.218651  1.240047 -0.219520        0        1   \n",
       "294  1.378929 -0.941393  6.099981  0.454120  0.467672        1        0   \n",
       "295  0.936181 -1.336140  0.417065  0.847083  0.639470        0        1   \n",
       "296 -1.166872 -0.772215 -0.103066 -0.026168 -0.649015        0        1   \n",
       "\n",
       "     fbs_0.0  fbs_1.0  restecg_0.0  ...  slope_1.0  slope_2.0  slope_3.0  \\\n",
       "287        0        0            0  ...          0          0          0   \n",
       "288        1        0            0  ...          1          0          0   \n",
       "289        1        0            1  ...          0          0          1   \n",
       "290        1        0            0  ...          0          1          0   \n",
       "291        1        0            1  ...          1          0          0   \n",
       "292        1        0            1  ...          0          0          1   \n",
       "293        1        0            0  ...          1          0          0   \n",
       "294        1        0            1  ...          0          1          0   \n",
       "295        1        0            1  ...          1          0          0   \n",
       "296        0        1            0  ...          0          1          0   \n",
       "\n",
       "     ca_0.0  ca_1.0  ca_2.0  ca_3.0  thal_3.0  thal_6.0  thal_7.0  \n",
       "287       0       0       0       0         0         0         0  \n",
       "288       1       0       0       0         0         0         1  \n",
       "289       1       0       0       0         1         0         0  \n",
       "290       1       0       0       0         0         0         1  \n",
       "291       1       0       0       0         1         0         0  \n",
       "292       1       0       0       0         0         1         0  \n",
       "293       0       0       1       0         0         0         1  \n",
       "294       1       0       0       0         1         0         0  \n",
       "295       1       0       0       0         1         0         0  \n",
       "296       0       0       1       0         0         1         0  \n",
       "\n",
       "[10 rows x 22 columns]"
      ]
     },
     "execution_count": 19,
     "metadata": {},
     "output_type": "execute_result"
    }
   ],
   "source": [
    "X_enc_STD = pd.get_dummies(X_STD) # pandas function to One-hot encoding\n",
    "X_enc_STD.dropna(inplace= True)\n",
    "X_enc_STD.tail(10)"
   ]
  },
  {
   "cell_type": "markdown",
   "metadata": {
    "colab_type": "text",
    "id": "MqA4XYJj2iEe"
   },
   "source": [
    "Ready to feed the NN!"
   ]
  },
  {
   "cell_type": "markdown",
   "metadata": {},
   "source": [
    "In order to have a feeling on how the variables behave in predicting heart condition we did this plot:"
   ]
  },
  {
   "cell_type": "code",
   "execution_count": 20,
   "metadata": {},
   "outputs": [
    {
     "data": {
      "image/png": "[encoded data removed]",
      "text/plain": [
       "<Figure size 900x180 with 5 Axes>"
      ]
     },
     "metadata": {
      "needs_background": "light"
     },
     "output_type": "display_data"
    }
   ],
   "source": [
    "data = pd.concat([X, Y], axis=1)\n",
    "g = sns.PairGrid(data, x_vars = ['age', 'chol', 'trestbps', 'thalach', 'olddek'], y_vars= [\"num\"], height=2.5)\n",
    "g.map(sns.regplot, color=\"0.2\")\n",
    "g.set(ylim=(0, 1));"
   ]
  },
  {
   "cell_type": "markdown",
   "metadata": {},
   "source": [
    "FIGURE 1. The figure shows that the following factors contribute positively to develop heart condition: age, cholesterol (Chol), resting blood pressure (trestbps), depression induced by exercise relative to rest (olddek), while maximum heart rate achieved (thalach), it is a sign of the healthiness."
   ]
  },
  {
   "cell_type": "markdown",
   "metadata": {
    "colab_type": "text",
    "id": "mIELlxlbIlcs"
   },
   "source": [
    "EXAMINIG COLLINEARITY"
   ]
  },
  {
   "cell_type": "code",
   "execution_count": 21,
   "metadata": {
    "colab": {
     "base_uri": "https://localhost:8080/",
     "height": 295
    },
    "colab_type": "code",
    "id": "ouhHO-u0_UIk",
    "outputId": "86cfda9a-763d-42d1-9d66-43cbeb125eee"
   },
   "outputs": [],
   "source": [
    "# examining COLLINEARITY:\n",
    "\n",
    "#lets have a look the relationship among variables:\n",
    "corr_X = Xnume_STD.corr()\n",
    "\n",
    "# Generate a mask for the upper triangle\n",
    "mask = np.zeros_like(corr_X, dtype=np.bool)\n",
    "mask[np.triu_indices_from(mask)] = True # Triangule or square"
   ]
  },
  {
   "cell_type": "code",
   "execution_count": 22,
   "metadata": {},
   "outputs": [
    {
     "data": {
      "image/png": "[encoded data removed]",
      "text/plain": [
       "<Figure size 720x720 with 2 Axes>"
      ]
     },
     "metadata": {
      "needs_background": "light"
     },
     "output_type": "display_data"
    }
   ],
   "source": [
    "f, ax = plt.subplots(figsize=(10, 10))\n",
    "# Generate a custom diverging colormap\n",
    "cmap = sns.diverging_palette(220, 10, as_cmap=True)\n",
    "# Draw the heatmap with the mask and correct aspect ratio\n",
    "sns.heatmap(corr_X, mask=mask, cmap=cmap, vmax=.3, center=0,\n",
    "            square=True, linewidths=.5, cbar_kws={\"shrink\": .5})\n",
    "plt.title('Correlations between different predictors')\n",
    "plt.show()\n"
   ]
  },
  {
   "cell_type": "markdown",
   "metadata": {},
   "source": [
    "FIGURE 2. This chart matrix of correlations indicates no problem of collinearity; each correlation between features was lower r = 0.75 (Zuur et al. 2010)"
   ]
  },
  {
   "cell_type": "code",
   "execution_count": 56,
   "metadata": {},
   "outputs": [
    {
     "name": "stderr",
     "output_type": "stream",
     "text": [
      "/home/elvi/anaconda3/lib/python3.7/site-packages/seaborn/axisgrid.py:2065: UserWarning: The `size` parameter has been renamed to `height`; pleaes update your code.\n",
      "  warnings.warn(msg, UserWarning)\n"
     ]
    },
    {
     "data": {
      "text/plain": [
       "<seaborn.axisgrid.PairGrid at 0x7fbe801b6668>"
      ]
     },
     "execution_count": 56,
     "metadata": {},
     "output_type": "execute_result"
    },
    {
     "data": {
      "image/png": "[encoded data removed]",
      "text/plain": [
       "<Figure size 900x900 with 30 Axes>"
      ]
     },
     "metadata": {
      "needs_background": "light"
     },
     "output_type": "display_data"
    }
   ],
   "source": [
    "import seaborn as sns\n",
    "sns.pairplot(Xnume_STD, size = 2.5) #DOUBLE CHECKING VISUALLY!"
   ]
  },
  {
   "cell_type": "markdown",
   "metadata": {},
   "source": [
    "FIGURE 3. Examine if the data has been centered to zero and detect the presence of outliers. \n",
    "\n",
    "We tried to eliminate some points, but in the end the end they continue appearing more. We decide to leave the data as it is, because eliminating few outliers will reduce the sample size dramtically."
   ]
  },
  {
   "cell_type": "markdown",
   "metadata": {
    "colab_type": "text",
    "id": "gwWZjZuoQveX"
   },
   "source": [
    "**SECOND SPLIT: Training, Test and Validation**"
   ]
  },
  {
   "cell_type": "code",
   "execution_count": 57,
   "metadata": {
    "colab": {},
    "colab_type": "code",
    "id": "khh_ywShMbcq"
   },
   "outputs": [],
   "source": [
    "#SPLITTING DATA into training and testing:\n",
    "X_train, X_test, y_train, y_test = train_test_split(X_enc_STD, Y, test_size = 0.20)"
   ]
  },
  {
   "cell_type": "code",
   "execution_count": 58,
   "metadata": {
    "colab": {
     "base_uri": "https://localhost:8080/",
     "height": 34
    },
    "colab_type": "code",
    "id": "2T-zUez-TSQK",
    "outputId": "96591573-c628-4a7a-f91e-9274a467cc62"
   },
   "outputs": [
    {
     "data": {
      "text/plain": [
       "(237, 22)"
      ]
     },
     "execution_count": 58,
     "metadata": {},
     "output_type": "execute_result"
    }
   ],
   "source": [
    "X_train.shape"
   ]
  },
  {
   "cell_type": "code",
   "execution_count": 59,
   "metadata": {
    "colab": {},
    "colab_type": "code",
    "id": "qnQP_wCxQ-6p"
   },
   "outputs": [],
   "source": [
    "partial_train_data = X_train[:200] #taking 300 rows\n",
    "partial_train_targets = y_train[:200]\n",
    "#Validation set\n",
    "val_data = X_train[200:]\n",
    "val_targets = y_train[200:]"
   ]
  },
  {
   "cell_type": "markdown",
   "metadata": {
    "colab_type": "text",
    "id": "SFocOvZQVyAU"
   },
   "source": [
    "TRANSFORMATION USING NUMPY"
   ]
  },
  {
   "cell_type": "code",
   "execution_count": 60,
   "metadata": {
    "colab": {
     "base_uri": "https://localhost:8080/",
     "height": 52
    },
    "colab_type": "code",
    "id": "uGK6qFTHVu4o",
    "outputId": "55bb8d7b-4e1c-41f6-f231-7be1b0904349"
   },
   "outputs": [
    {
     "data": {
      "text/plain": [
       "array([1, 0, 1, 0, 0, 0, 0, 0, 1, 0, 1, 1, 1, 1, 1, 0, 0, 0, 0, 1, 1, 0,\n",
       "       0, 0, 1, 1, 1, 1, 1, 0, 0, 1, 1, 1, 1, 1, 0])"
      ]
     },
     "execution_count": 60,
     "metadata": {},
     "output_type": "execute_result"
    }
   ],
   "source": [
    "partial_train_data.values\n",
    "partial_train_targets.values\n",
    "val_data.values\n",
    "val_targets.values "
   ]
  },
  {
   "cell_type": "markdown",
   "metadata": {},
   "source": [
    "Checking for the balance of the data"
   ]
  },
  {
   "cell_type": "code",
   "execution_count": 61,
   "metadata": {},
   "outputs": [
    {
     "data": {
      "text/plain": [
       "0    111\n",
       "1     89\n",
       "Name: num, dtype: int64"
      ]
     },
     "execution_count": 61,
     "metadata": {},
     "output_type": "execute_result"
    }
   ],
   "source": [
    "#checking for the balance of the data\n",
    "\n",
    "Balance = partial_train_targets.value_counts()\n",
    "category = ['1', '0']\n",
    "partial_train_targets.value_counts()"
   ]
  },
  {
   "cell_type": "code",
   "execution_count": 62,
   "metadata": {},
   "outputs": [
    {
     "data": {
      "image/png": "[encoded data removed]",
      "text/plain": [
       "<Figure size 432x288 with 1 Axes>"
      ]
     },
     "metadata": {
      "needs_background": "light"
     },
     "output_type": "display_data"
    }
   ],
   "source": [
    "plt.bar(category, Balance)\n",
    "#plt.xticks(category, objects)\n",
    "plt.show()"
   ]
  },
  {
   "cell_type": "markdown",
   "metadata": {},
   "source": [
    "FIGURE 4. Chart number of samples per patient condition: 1. sick, and 2. healthy. Chart shows\n",
    "    an inbalance in the dataset."
   ]
  },
  {
   "cell_type": "code",
   "execution_count": 92,
   "metadata": {},
   "outputs": [
    {
     "name": "stdout",
     "output_type": "stream",
     "text": [
      "0.555\n"
     ]
    }
   ],
   "source": [
    "print((111)/(111+89)) # THRESHOLD\n",
    "default_accuracy = (111)/(111+89)"
   ]
  },
  {
   "cell_type": "markdown",
   "metadata": {},
   "source": [
    "Since the training set is unbalanced we can expect a baseline/threshold \n",
    "for the classifier of 57%, so there is a higher chance (>7%) to detect sick patients (1), than\n",
    "none sick patients by default. \n",
    "The model used should improve this chance."
   ]
  },
  {
   "cell_type": "markdown",
   "metadata": {},
   "source": [
    "# IV. MODEL FITTING"
   ]
  },
  {
   "cell_type": "markdown",
   "metadata": {},
   "source": [
    "# MODEL 1: several layers"
   ]
  },
  {
   "cell_type": "code",
   "execution_count": 82,
   "metadata": {
    "colab": {
     "base_uri": "https://localhost:8080/",
     "height": 236
    },
    "colab_type": "code",
    "id": "n8R719DzT581",
    "outputId": "2d458294-8655-4a1b-c55a-a6cc4d60387e"
   },
   "outputs": [],
   "source": [
    "# The actual NN (very dense layer)\n",
    "model = tf.keras.models.Sequential([\n",
    "  tf.keras.layers.Dense(5, input_shape=(partial_train_data.shape[1],), activation='sigmoid'),\n",
    "  tf.keras.layers.Dense(20, activation='sigmoid'),\n",
    "  tf.keras.layers.Dropout(0.5),\n",
    "  tf.keras.layers.Dense(16, activation='sigmoid'),\n",
    "  tf.keras.layers.Dropout(0.5),\n",
    "  tf.keras.layers.Dense(10, activation='sigmoid'),\n",
    "  tf.keras.layers.Dropout(0.5),\n",
    "  tf.keras.layers.Dense(1, activation='sigmoid')\n",
    "])\n"
   ]
  },
  {
   "cell_type": "code",
   "execution_count": 83,
   "metadata": {},
   "outputs": [],
   "source": [
    "#model.summary()"
   ]
  },
  {
   "cell_type": "code",
   "execution_count": 84,
   "metadata": {},
   "outputs": [],
   "source": [
    "#opt = tf.keras.optimizers.RMSprop(lr = 0.005, momentum = 0.3) # Here we reduce the Learning rate from 0.01 (default) tp 0.0025"
   ]
  },
  {
   "cell_type": "code",
   "execution_count": 85,
   "metadata": {
    "colab": {},
    "colab_type": "code",
    "id": "J8OxDVq1WHdk"
   },
   "outputs": [],
   "source": [
    "model.compile(optimizer= 'adam',\n",
    "              loss= 'binary_crossentropy',#'sparse_categorical_crossentropy',\n",
    "              metrics=['accuracy'])\n"
   ]
  },
  {
   "cell_type": "code",
   "execution_count": 86,
   "metadata": {},
   "outputs": [],
   "source": [
    "history = model.fit(partial_train_data, partial_train_targets,\n",
    "                    epochs= 500, batch_size=10, verbose=0,\n",
    "                    validation_data = (val_data, val_targets))"
   ]
  },
  {
   "cell_type": "code",
   "execution_count": 87,
   "metadata": {},
   "outputs": [],
   "source": [
    "# Plot the training + validation loss and mean absolute error\n",
    "#print(history.history.keys())"
   ]
  },
  {
   "cell_type": "code",
   "execution_count": 88,
   "metadata": {},
   "outputs": [
    {
     "data": {
      "image/png": "[encoded data removed]",
      "text/plain": [
       "<Figure size 432x288 with 1 Axes>"
      ]
     },
     "metadata": {
      "needs_background": "light"
     },
     "output_type": "display_data"
    },
    {
     "data": {
      "image/png": "[encoded data removed]",
      "text/plain": [
       "<Figure size 432x288 with 1 Axes>"
      ]
     },
     "metadata": {
      "needs_background": "light"
     },
     "output_type": "display_data"
    }
   ],
   "source": [
    "loss = history.history['loss']\n",
    "val_loss = history.history['val_loss']\n",
    "accu = history.history['acc']\n",
    "val_accu = history.history['val_acc']\n",
    "\n",
    "time = range(1,len(loss)+1)\n",
    "\n",
    "plt.plot(time, loss, 'b-')\n",
    "plt.plot(time, val_loss, 'r-')\n",
    "plt.xlabel('Epochs')\n",
    "plt.ylabel('Loss')\n",
    "plt.legend(['training', 'validation'])\n",
    "plt.show()\n",
    "\n",
    "plt.plot(time, accu, 'b-')\n",
    "plt.plot(time, val_accu, 'r-')\n",
    "plt.xlabel('Epochs')\n",
    "plt.ylabel('accuracy')\n",
    "plt.ylim(0,1)\n",
    "plt.legend(['training', 'validation'])\n",
    "plt.show()\n",
    "\n"
   ]
  },
  {
   "cell_type": "markdown",
   "metadata": {},
   "source": [
    "FIGURE 5. Examination of the model performance comparing the accuracy and loss of validation and training set.\n",
    "There are indication of overfitting.\n",
    "\n",
    "After an hour of training using:\n",
    "different learning rates = 0.005, 0.0025, 0.0001 = reducing only increased overfitting\n",
    "different oprimizers = adam, sgd and rmsprop = Adam worked better; sgd was the worst, while rmsprop needs more\n",
    " tunning on LR and momentum parameter.\n",
    "different batch sizes = too small it overfit, and too large make the NN stuck in a fixed Loss/Accuracy value\n",
    "different neuron numbers\n",
    "\n",
    "For practical reason we leave it trained as it is. "
   ]
  },
  {
   "cell_type": "markdown",
   "metadata": {},
   "source": [
    "Problems with overfitting"
   ]
  },
  {
   "cell_type": "code",
   "execution_count": 89,
   "metadata": {},
   "outputs": [
    {
     "name": "stdout",
     "output_type": "stream",
     "text": [
      "60/60 [==============================] - 0s 107us/sample - loss: 0.6656 - acc: 0.6833\n"
     ]
    }
   ],
   "source": [
    "# Test the model with new unseen data\n",
    "test_loss, test_accuracy = model.evaluate(X_test, y_test)"
   ]
  },
  {
   "cell_type": "code",
   "execution_count": 90,
   "metadata": {},
   "outputs": [],
   "source": [
    "test_acc_model1 = test_accuracy*100"
   ]
  },
  {
   "cell_type": "code",
   "execution_count": 94,
   "metadata": {},
   "outputs": [
    {
     "data": {
      "text/plain": [
       "12.833333730697625"
      ]
     },
     "execution_count": 94,
     "metadata": {},
     "output_type": "execute_result"
    }
   ],
   "source": [
    "test_acc_model1 - default_accuracy*100"
   ]
  },
  {
   "cell_type": "markdown",
   "metadata": {},
   "source": [
    "this is a poor improvement of 12.8%"
   ]
  },
  {
   "cell_type": "code",
   "execution_count": 95,
   "metadata": {},
   "outputs": [
    {
     "data": {
      "text/plain": [
       "0.6655753890673319"
      ]
     },
     "execution_count": 95,
     "metadata": {},
     "output_type": "execute_result"
    }
   ],
   "source": [
    "test_loss"
   ]
  },
  {
   "cell_type": "markdown",
   "metadata": {},
   "source": [
    "# 2. MODEL 2. small network (2 layers)"
   ]
  },
  {
   "cell_type": "code",
   "execution_count": 96,
   "metadata": {},
   "outputs": [],
   "source": [
    "model_small = tf.keras.models.Sequential([\n",
    "  tf.keras.layers.Dense(5, input_shape=(partial_train_data.shape[1],), activation='relu'),\n",
    "  tf.keras.layers.Dense(1, activation='sigmoid')\n",
    "])"
   ]
  },
  {
   "cell_type": "code",
   "execution_count": 97,
   "metadata": {},
   "outputs": [
    {
     "name": "stdout",
     "output_type": "stream",
     "text": [
      "Model: \"sequential_6\"\n",
      "_________________________________________________________________\n",
      "Layer (type)                 Output Shape              Param #   \n",
      "=================================================================\n",
      "dense_25 (Dense)             (None, 5)                 115       \n",
      "_________________________________________________________________\n",
      "dense_26 (Dense)             (None, 1)                 6         \n",
      "=================================================================\n",
      "Total params: 121\n",
      "Trainable params: 121\n",
      "Non-trainable params: 0\n",
      "_________________________________________________________________\n"
     ]
    }
   ],
   "source": [
    "model_small.summary()"
   ]
  },
  {
   "cell_type": "code",
   "execution_count": 98,
   "metadata": {},
   "outputs": [],
   "source": [
    "model_small.compile(optimizer= 'adam', # 'using ADAM instead of rmsprop\n",
    "                    #learning_rate = 0.01,Now we are using the deafult learnig rate = 0.01\n",
    "              loss= 'binary_crossentropy',#'sparse_categorical_crossentropy',\n",
    "              metrics=['accuracy'])\n"
   ]
  },
  {
   "cell_type": "code",
   "execution_count": 99,
   "metadata": {},
   "outputs": [],
   "source": [
    "history_small= model_small.fit(partial_train_data, partial_train_targets,\n",
    "                    epochs=80, batch_size=10, verbose=0,\n",
    "                    validation_data = (val_data, val_targets))"
   ]
  },
  {
   "cell_type": "code",
   "execution_count": 100,
   "metadata": {},
   "outputs": [
    {
     "data": {
      "image/png": "[encoded data removed]",
      "text/plain": [
       "<Figure size 432x288 with 1 Axes>"
      ]
     },
     "metadata": {
      "needs_background": "light"
     },
     "output_type": "display_data"
    },
    {
     "data": {
      "image/png": "[encoded data removed]",
      "text/plain": [
       "<Figure size 432x288 with 1 Axes>"
      ]
     },
     "metadata": {
      "needs_background": "light"
     },
     "output_type": "display_data"
    }
   ],
   "source": [
    "loss = history_small.history['loss']\n",
    "val_loss = history_small.history['val_loss']\n",
    "accu = history_small.history['acc']\n",
    "val_accu = history_small.history['val_acc']\n",
    "\n",
    "time = range(1,len(loss)+1)\n",
    "\n",
    "plt.plot(time, loss, 'b-')\n",
    "plt.plot(time, val_loss, 'r-')\n",
    "plt.xlabel('Epochs')\n",
    "plt.ylabel('Loss')\n",
    "plt.ylim(0,1)\n",
    "plt.legend(['Training', 'Validation'])\n",
    "plt.show()\n",
    "\n",
    "plt.plot(time, accu, 'b-')\n",
    "plt.plot(time, val_accu, 'r-')\n",
    "plt.xlabel('Epochs')\n",
    "plt.ylabel('accuracy')\n",
    "plt.ylim(0,1)\n",
    "plt.legend(['Training', 'Validation'])\n",
    "plt.show()\n",
    "\n"
   ]
  },
  {
   "cell_type": "markdown",
   "metadata": {},
   "source": [
    "FIGURE 6. Examination of the model performance comparing the accuracy and loss of validation and training set.\n",
    "There are indication of overfitting.\n",
    "\n",
    "We tried using 500, 100 and 80 epochs. The 80 epoch choice revealed the most coherent result."
   ]
  },
  {
   "cell_type": "code",
   "execution_count": 101,
   "metadata": {},
   "outputs": [
    {
     "name": "stdout",
     "output_type": "stream",
     "text": [
      "60/60 [==============================] - 0s 104us/sample - loss: 0.6046 - acc: 0.7000\n"
     ]
    }
   ],
   "source": [
    "# Test the model with new unseen data\n",
    "test_loss, test_accuracy = model_small.evaluate(X_test, y_test)"
   ]
  },
  {
   "cell_type": "code",
   "execution_count": 102,
   "metadata": {},
   "outputs": [],
   "source": [
    "test_acc_model2 = test_accuracy*100"
   ]
  },
  {
   "cell_type": "code",
   "execution_count": 103,
   "metadata": {},
   "outputs": [
    {
     "data": {
      "text/plain": [
       "14.499998807907097"
      ]
     },
     "execution_count": 103,
     "metadata": {},
     "output_type": "execute_result"
    }
   ],
   "source": [
    "test_acc_model2 - default_accuracy*100"
   ]
  },
  {
   "cell_type": "markdown",
   "metadata": {},
   "source": [
    "# 3. MODEL 3: small network with regularizer"
   ]
  },
  {
   "cell_type": "code",
   "execution_count": 51,
   "metadata": {},
   "outputs": [],
   "source": [
    "from tensorflow.keras import regularizers"
   ]
  },
  {
   "cell_type": "code",
   "execution_count": 120,
   "metadata": {},
   "outputs": [],
   "source": [
    "model_small_reg1 = tf.keras.models.Sequential([\n",
    "    tf.keras.layers.Dense(5, input_shape=(partial_train_data.shape[1],), activation='sigmoid'),\n",
    "    tf.keras.layers.Dense(5,kernel_regularizer=regularizers.l2(0.5), activation = 'sigmoid'),\n",
    "    tf.keras.layers.Dense(1, activation='sigmoid')])\n"
   ]
  },
  {
   "cell_type": "code",
   "execution_count": 121,
   "metadata": {},
   "outputs": [],
   "source": [
    "#opt = tf.keras.optimizers.Adam(lr = 0.01) # Here we reduce the Learning rate from 0.01 (default) tp 0.0025"
   ]
  },
  {
   "cell_type": "code",
   "execution_count": 122,
   "metadata": {},
   "outputs": [],
   "source": [
    "model_small_reg1.compile(optimizer= 'adam', \n",
    "              loss= 'binary_crossentropy',\n",
    "              metrics=['accuracy'])"
   ]
  },
  {
   "cell_type": "code",
   "execution_count": 123,
   "metadata": {},
   "outputs": [],
   "source": [
    "history_small_reg1= model_small_reg1.fit(partial_train_data, partial_train_targets,\n",
    "                    epochs=2500, batch_size = 10, verbose=0,\n",
    "                    validation_data = (val_data, val_targets))"
   ]
  },
  {
   "cell_type": "code",
   "execution_count": 124,
   "metadata": {},
   "outputs": [
    {
     "data": {
      "image/png": "[encoded data removed]",
      "text/plain": [
       "<Figure size 432x288 with 1 Axes>"
      ]
     },
     "metadata": {
      "needs_background": "light"
     },
     "output_type": "display_data"
    },
    {
     "data": {
      "image/png": "[encoded data removed]",
      "text/plain": [
       "<Figure size 432x288 with 1 Axes>"
      ]
     },
     "metadata": {
      "needs_background": "light"
     },
     "output_type": "display_data"
    }
   ],
   "source": [
    "loss = history_small_reg1.history['loss']\n",
    "val_loss = history_small_reg1.history['val_loss']\n",
    "accu = history_small_reg1.history['acc']\n",
    "val_accu = history_small_reg1.history['val_acc']\n",
    "\n",
    "time = range(1,len(loss)+1)\n",
    "\n",
    "plt.plot(time, loss, 'b-')\n",
    "plt.plot(time, val_loss, 'r-')\n",
    "plt.xlabel('Epochs')\n",
    "plt.ylabel('Loss')\n",
    "plt.legend(['Training', 'Validation'])\n",
    "plt.show()\n",
    "\n",
    "plt.plot(time, accu, 'b-')\n",
    "plt.plot(time, val_accu, 'r-')\n",
    "plt.xlabel('Epochs')\n",
    "plt.ylabel('accuracy')\n",
    "plt.ylim(0,1)\n",
    "plt.legend(['Training', 'Validation'])\n",
    "plt.show()\n"
   ]
  },
  {
   "cell_type": "markdown",
   "metadata": {},
   "source": [
    "FIGURE 7. Examination of the model performance comparing the accuracy and loss of validation and training set.\n",
    "There are indication of overfitting."
   ]
  },
  {
   "cell_type": "code",
   "execution_count": 125,
   "metadata": {},
   "outputs": [
    {
     "name": "stdout",
     "output_type": "stream",
     "text": [
      "60/60 [==============================] - 0s 69us/sample - loss: 0.6912 - acc: 0.6500\n"
     ]
    }
   ],
   "source": [
    "# Test the model with new unseen data\n",
    "test_loss, test_accuracy = model_small_reg1.evaluate(X_test, y_test)"
   ]
  },
  {
   "cell_type": "code",
   "execution_count": 126,
   "metadata": {},
   "outputs": [],
   "source": [
    "test_acc_model3 = test_accuracy*100"
   ]
  },
  {
   "cell_type": "code",
   "execution_count": 127,
   "metadata": {},
   "outputs": [
    {
     "data": {
      "text/plain": [
       "9.499997615814202"
      ]
     },
     "execution_count": 127,
     "metadata": {},
     "output_type": "execute_result"
    }
   ],
   "source": [
    "test_acc_model3 - default_accuracy*100"
   ]
  },
  {
   "cell_type": "code",
   "execution_count": 129,
   "metadata": {},
   "outputs": [],
   "source": [
    "# Improvement of a 10%"
   ]
  },
  {
   "cell_type": "markdown",
   "metadata": {},
   "source": [
    "# V. Model selection"
   ]
  },
  {
   "cell_type": "code",
   "execution_count": 144,
   "metadata": {},
   "outputs": [],
   "source": [
    "from sklearn.metrics import confusion_matrix\n",
    "from sklearn.metrics import classification_report\n",
    "from sklearn.model_selection import cross_val_score\n",
    "from sklearn.metrics import roc_auc_score\n",
    "from sklearn.metrics import roc_curve"
   ]
  },
  {
   "cell_type": "code",
   "execution_count": 133,
   "metadata": {},
   "outputs": [],
   "source": [
    "from sklearn.model_selection import cross_val_score\n",
    "from sklearn.datasets import make_classification"
   ]
  },
  {
   "cell_type": "markdown",
   "metadata": {},
   "source": [
    "# CALCULATING CONFUSION MATRICES AND F1 score"
   ]
  },
  {
   "cell_type": "code",
   "execution_count": 135,
   "metadata": {},
   "outputs": [],
   "source": [
    "#MODEL1\n",
    "y_test = y_test.values\n",
    "results = model.predict(X_test) # Probability\n",
    "res = model.predict_classes(X_test) # The actual\n",
    "\n",
    "y_test = y_test\n",
    "TRUEs = np.arange(len(y_test))\n",
    "for i in range(len(res)):\n",
    "   TRUEs[i] = np.array(y_test[i] + res[i])\n",
    "\n",
    "#MODEL 2\n",
    "results_small = model_small.predict(X_test) # Probability\n",
    "res_small = model_small.predict_classes(X_test) # The actual\n",
    "\n",
    "\n",
    "y_test = y_test\n",
    "TRUEs_small = np.arange(len(y_test))\n",
    "for i in range(len(res_small)):\n",
    "   TRUEs_small[i] = np.array(y_test[i] + res_small[i])\n",
    "\n",
    "# MODEL 3\n",
    "results_small_reg1 = model_small_reg1.predict(X_test) # Probability\n",
    "res_small_reg1 = model_small_reg1.predict_classes(X_test) # The actual\n",
    "\n",
    "y_test = y_test\n",
    "TRUEs_small_reg1 = np.arange(len(y_test))\n",
    "for i in range(len(res_small_reg1)):\n",
    "   TRUEs_small_reg1[i] = np.array(y_test[i] + res_small_reg1[i])\n"
   ]
  },
  {
   "cell_type": "code",
   "execution_count": 136,
   "metadata": {},
   "outputs": [
    {
     "name": "stdout",
     "output_type": "stream",
     "text": [
      "MODEL1: Counter({0: 27, 1: 19, 2: 14})\n",
      "MODEL2: Counter({0: 23, 2: 19, 1: 18})\n",
      "MODEL3: Counter({0: 22, 1: 21, 2: 17})\n"
     ]
    }
   ],
   "source": [
    "import collections\n",
    "\n",
    "print(\"MODEL1:\", collections.Counter(TRUEs)) # Dense model\n",
    "print(\"MODEL2:\", collections.Counter(TRUEs_small)) # small model\n",
    "print(\"MODEL3:\", collections.Counter(TRUEs_small_reg1)) # small model with regularization\n",
    "\n"
   ]
  },
  {
   "cell_type": "code",
   "execution_count": 137,
   "metadata": {},
   "outputs": [
    {
     "name": "stdout",
     "output_type": "stream",
     "text": [
      "Confusion matrix for model 1:\n",
      " [[27  5]\n",
      " [14 14]]\n"
     ]
    }
   ],
   "source": [
    "cm1 = confusion_matrix(y_test, res)\n",
    "print(\"Confusion matrix for model 1:\\n\",cm1)\n"
   ]
  },
  {
   "cell_type": "code",
   "execution_count": 138,
   "metadata": {},
   "outputs": [
    {
     "name": "stdout",
     "output_type": "stream",
     "text": [
      "Accuracy MODEL 1 calculated from the training set = 0.683\n",
      "              precision    recall  f1-score   support\n",
      "\n",
      "           0       0.66      0.84      0.74        32\n",
      "           1       0.74      0.50      0.60        28\n",
      "\n",
      "   micro avg       0.68      0.68      0.68        60\n",
      "   macro avg       0.70      0.67      0.67        60\n",
      "weighted avg       0.70      0.68      0.67        60\n",
      "\n"
     ]
    }
   ],
   "source": [
    "accuracy_2 = (cm1[0][0]+cm1[1][1])/(cm1[0][0]+cm1[1][1]+cm1[0][1]+cm1[1][0])\n",
    "print(\"Accuracy MODEL 1 calculated from the training set = %.3f\" % (accuracy_2))\n",
    "\n",
    "print(classification_report(y_test, res, target_names=['0', '1']))"
   ]
  },
  {
   "cell_type": "code",
   "execution_count": 139,
   "metadata": {},
   "outputs": [
    {
     "name": "stdout",
     "output_type": "stream",
     "text": [
      "Confusion matrix for model 2(small):\n",
      " [[23  9]\n",
      " [ 9 19]]\n"
     ]
    }
   ],
   "source": [
    "cm2 = confusion_matrix(y_test, res_small)\n",
    "print(\"Confusion matrix for model 2(small):\\n\",cm2)\n"
   ]
  },
  {
   "cell_type": "code",
   "execution_count": 147,
   "metadata": {},
   "outputs": [
    {
     "name": "stdout",
     "output_type": "stream",
     "text": [
      "Accuracy MODEL 2 calculated from the training set = 0.700\n",
      "              precision    recall  f1-score   support\n",
      "\n",
      "           0       0.72      0.72      0.72        32\n",
      "           1       0.68      0.68      0.68        28\n",
      "\n",
      "   micro avg       0.70      0.70      0.70        60\n",
      "   macro avg       0.70      0.70      0.70        60\n",
      "weighted avg       0.70      0.70      0.70        60\n",
      "\n"
     ]
    }
   ],
   "source": [
    "\n",
    "accuracy_2 = (cm2[0][0]+cm2[1][1])/(cm2[0][0]+cm2[1][1]+cm2[0][1]+cm2[1][0])\n",
    "print(\"Accuracy MODEL 2 calculated from the training set = %.3f\" % (accuracy_2))\n",
    "\n",
    "print(classification_report(y_test, res_small, target_names=['0', '1']))"
   ]
  },
  {
   "cell_type": "code",
   "execution_count": 141,
   "metadata": {},
   "outputs": [
    {
     "name": "stdout",
     "output_type": "stream",
     "text": [
      "Confusion matrix for model 3 (small + reg1):\n",
      " [[22 10]\n",
      " [11 17]]\n"
     ]
    }
   ],
   "source": [
    "cm3 = confusion_matrix(y_test, res_small_reg1)\n",
    "print(\"Confusion matrix for model 3 (small + reg1):\\n\",cm3)"
   ]
  },
  {
   "cell_type": "code",
   "execution_count": 142,
   "metadata": {},
   "outputs": [
    {
     "name": "stdout",
     "output_type": "stream",
     "text": [
      "Accuracy MODEL 1 calculated from the training set = 0.650\n",
      "              precision    recall  f1-score   support\n",
      "\n",
      "           0       0.67      0.69      0.68        32\n",
      "           1       0.63      0.61      0.62        28\n",
      "\n",
      "   micro avg       0.65      0.65      0.65        60\n",
      "   macro avg       0.65      0.65      0.65        60\n",
      "weighted avg       0.65      0.65      0.65        60\n",
      "\n"
     ]
    }
   ],
   "source": [
    "\n",
    "accuracy_2 = (cm3[0][0]+cm3[1][1])/(cm3[0][0]+cm3[1][1]+cm3[0][1]+cm3[1][0])\n",
    "print(\"Accuracy MODEL 1 calculated from the training set = %.3f\" % (accuracy_2))\n",
    "\n",
    "print(classification_report(y_test, res_small_reg1, target_names=['0', '1']))"
   ]
  },
  {
   "cell_type": "markdown",
   "metadata": {},
   "source": [
    "It seems to be that the  model_small (MODEL 2) exhibit better results based on\n",
    "confusion matrix metric: both precision and recall of this classifier(NN) indicated good results.\n"
   ]
  },
  {
   "cell_type": "code",
   "execution_count": 146,
   "metadata": {},
   "outputs": [
    {
     "data": {
      "image/png": "[encoded data removed]",
      "text/plain": [
       "<Figure size 432x288 with 1 Axes>"
      ]
     },
     "metadata": {
      "needs_background": "light"
     },
     "output_type": "display_data"
    }
   ],
   "source": [
    "logit_roc_auc = roc_auc_score(y_test, model.predict(X_test))\n",
    "logit_roc_auc_small = roc_auc_score(y_test, model.predict(X_test))\n",
    "logit_roc_auc_small_reg1 = roc_auc_score(y_test, model.predict(X_test))\n",
    "\n",
    "fpr, tpr, thresholds = roc_curve(y_test, model.predict_proba(X_test))\n",
    "fpr_small, tpr_small, thresholds_small = roc_curve(y_test, model_small.predict_proba(X_test))\n",
    "fpr_small_reg1, tpr_small_reg1, thresholds_small_reg1 = roc_curve(y_test, model_small_reg1.predict_proba(X_test))\n",
    "plt.figure()\n",
    "plt.plot(fpr, tpr, label='MODEL 1 (area = %0.2f)' % logit_roc_auc)\n",
    "plt.plot(fpr_small, tpr_small, label='MODEL SMALL (area = %0.2f)' % logit_roc_auc_small)\n",
    "plt.plot(fpr_small_reg1, tpr_small_reg1, label='MODEL SMALL + REGUL2 (area = %0.2f)' % logit_roc_auc_small_reg1)\n",
    "plt.plot([0, 1], [0, 1],'r--')\n",
    "plt.xlim([0.0, 1.0])\n",
    "plt.ylim([0.0, 1.05])\n",
    "plt.xlabel('False Positive Rate')\n",
    "plt.ylabel('True Positive Rate')\n",
    "plt.title('Receiver operating characteristic')\n",
    "plt.legend(loc=\"lower right\")\n",
    "plt.savefig('Log_ROC')\n",
    "plt.show()"
   ]
  },
  {
   "cell_type": "markdown",
   "metadata": {},
   "source": [
    "FIGURE 8. This figure is showing that three models similar performance,\n",
    "and similar area under the curve, however F1 inidicated that\n",
    "Model 2(small NN) improved better the prediction.\n",
    "\n"
   ]
  },
  {
   "cell_type": "markdown",
   "metadata": {},
   "source": [
    "# VI. RESULTS and DISCUSSION"
   ]
  },
  {
   "cell_type": "markdown",
   "metadata": {},
   "source": [
    "This project aimed to predict heart disease condition using neural networks as a binary classifier. We build modelled based on attributes such as blood pressure, cholesterol levels, heart rate, and other features were classified according to varying degrees of coronary artery disease, variable \"num\", which was binarized (>1 = sick, and <1 = healthy). This project utilized a dataset of 303 patients. Nevertheless, we remove rows with \"NaN\", using only 297 samples. We could have replaced NaN values with the averages and utilize the full dataset and compare the effect of these six samples on the accuracy. We anyway decided to remove these rows since they represented less than 5% of the dataset, and we considered irrelevant their presence. Chollet 2017 warns us about the fact that a good classifier should be trained with more than 10000 data points. In this sense, if we would have kept those points, we would have never reached the minimum sample size recommended by Chollet 2017 and Haroon 2017.\n",
    "Despite the presence of NaN, there were no more problems with the dataset. However, we had to standardize the data centring each feature to zero, and we had to encode a few categorical variables as it was recommended by diverse specialists (Chollet 2017, Haroon 2018, Zuur et al. 2010).\n",
    "We trained three models, and they mainly differ in the combination of a number of neurons, a number of layers, activations types  ('relu', 'elu', 'sigmoid'), and regularization (dropout and l2 regularization). We decided to train each model for 5 hours each; this implied we change parameters each run, registering and keeping those producing better performance on the test set. It seems to be that our first model, which comprised several deep layers performed better, exhibiting ~70% of accuracy on the test set together with an F1-score of 0.74 (the highest of the three models). Also, this model improved the default chance of detecting a sick patient in ~15%. We based the selection mainly on F1-score since our accuracy metric was polluted (biased) by a slight excess of ill patients in comparison to healthy ones.\n",
    "Additionally, the accuracy results from training data on figures (5, 6, 7) were always higher than the one exhibited in the test set. This situation seems to be a problem of a lack of large dataset to improve the model further. In this sense, it seems to be that this model is prone to overfit (Hoorne 2017).\n",
    "Using F1 score as a metric, we are sure that if the F1 score is high on model 1, both precision and recall of the classifier indicate good results. That characteristic of the metric allows us to compare the performance of three classifiers (model 1, model 2, model 3) using just this metric. The ROC curve represent the trade-off between sensitivity (or TPR) and specificity (1 – FPR). Classifiers that give curves closer to the top-left corner indicate better performance. In our case, three of them had a sound performance, with an also similar area under the curve AUC ~72%. These AUCs showed still an improvement from the baseline detected, which in our case was 54%, due to the imbalance of the data).\n",
    "It is worth mention that every time we initiate the kernel, we obtained different results, it is essential then to save the trained model for further utilization rather than training it every time. Similarly, during the tunning of each model, we used different activation functions. It seems to be that the non-linear sigmoid or 'elu' (notice: \"exponential linear unit\") performed better for this case, we assumed it is because is a binary classification problem that the usage of sigmoid contributes further to obtain the final result.\n",
    "The training process was a bit daunting. It is perhaps advisable to use other methods such as logistic regression with smoothers (e.g. Generalized additive models) for these type of problems with small datasets to save time during training (Zuur et al. 2010)."
   ]
  },
  {
   "cell_type": "markdown",
   "metadata": {},
   "source": [
    "# VII. Conclusion"
   ]
  },
  {
   "cell_type": "markdown",
   "metadata": {},
   "source": [
    "Neural Network seems to be an excellent candidate to solve complex problems containing multidimensional data. We used a dataset on heart disease conditions to build three binary neural network classifiers to recognize sick and healthy patients according to several variables. Our best classifier neural network contained several layers improving the classification rate from a default of 54% to >70%. It is possible that other neural network can achieve better-obtaining results, however here we concentrate on different extra aspects such a data preprocessing, training and evaluation scores too. All three neural network models were assessed using ROC curves, and besides, the F1 score seems to be better in identifying the best model when the dataset is imbalanced.\n"
   ]
  },
  {
   "cell_type": "markdown",
   "metadata": {},
   "source": [
    "# VIII. References"
   ]
  },
  {
   "cell_type": "markdown",
   "metadata": {},
   "source": [
    "1. Chollet, F. 2017. Deep Learning with Python. Manning Publications Co. USA. 384 pages\n",
    "2. Hoorne, D. 2017. Python Machine Learning Case Studies. Apress.editors. Karachi, Pakistan, 205 pages.\n",
    "3. Zuur, A., Ieno, E., and Ch. Elphick. 2010. A protocol for data exploration to avoid common statistical problems. Methods in Ecology and Evolution 1, 3-14"
   ]
  },
  {
   "cell_type": "code",
   "execution_count": null,
   "metadata": {},
   "outputs": [],
   "source": []
  }
 ],
 "metadata": {
  "colab": {
   "collapsed_sections": [],
   "name": "Case1colDiaz.ipynb",
   "provenance": []
  },
  "kernelspec": {
   "display_name": "Python 3",
   "language": "python",
   "name": "python3"
  },
  "language_info": {
   "codemirror_mode": {
    "name": "ipython",
    "version": 3
   },
   "file_extension": ".py",
   "mimetype": "text/x-python",
   "name": "python",
   "nbconvert_exporter": "python",
   "pygments_lexer": "ipython3",
   "version": "3.7.3"
  }
 },
 "nbformat": 4,
 "nbformat_minor": 1
}
